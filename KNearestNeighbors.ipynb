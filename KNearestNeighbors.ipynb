{
 "cells": [
  {
   "cell_type": "code",
   "execution_count": 1,
   "metadata": {},
   "outputs": [],
   "source": [
    "import numpy as np\n",
    "import matplotlib.pyplot as plt\n",
    "from sklearn.manifold import TSNE\n",
    "from sklearn.decomposition import PCA\n",
    "import plotly.graph_objects as go\n",
    "import plotly.express as px"
   ]
  },
  {
   "cell_type": "code",
   "execution_count": 2,
   "metadata": {},
   "outputs": [],
   "source": [
    "class KNearestNeighbors:\n",
    "    def __init__(self, k, eps=1e-8):\n",
    "        self.k = k\n",
    "        self.eps = eps\n",
    "        \n",
    "    def fit(self, X, y):\n",
    "        self.X_train = X\n",
    "        self.y_train = y\n",
    "    \n",
    "    def predict(self, X_test):\n",
    "        distances = self.compute_distance(X_test)\n",
    "            \n",
    "        return self.predict_labels(distances)\n",
    "        \n",
    "    def compute_distance(self, X_test):\n",
    "        # num_test = X_test.shape[0]\n",
    "        # num_train = self.X_train.shape[0]\n",
    "        # distances = np.zeros((num_test, num_train))\n",
    "        \n",
    "        # for i in range(num_test):\n",
    "        #     distances[i, :] = np.sqrt(np.sum((self.X_train - X_test[i, :])**2, axis=1))\n",
    "        \n",
    "        X_test_sq = np.sum(X_test**2, axis=1, keepdims=True)\n",
    "        X_train_sq = np.sum(self.X_train**2, axis=1, keepdims=True)\n",
    "        X_prod = np.dot(X_test, self.X_train.T)\n",
    "        distances = np.sqrt(self.eps + X_test_sq - 2*X_prod + X_train_sq.T)\n",
    "        \n",
    "        return distances\n",
    "            \n",
    "    def predict_labels(self, distances):\n",
    "        num_test = distances.shape[0]\n",
    "        y_pred = np.zeros(num_test)\n",
    "        \n",
    "        for i in range(num_test):\n",
    "            y_indices = np.argsort(distances[i,:])\n",
    "            k_closest_classes = self.y_train[y_indices[:self.k]].astype(int)\n",
    "            y_pred[i] = np.argmax(np.bincount(k_closest_classes))\n",
    "            \n",
    "        return y_pred\n",
    "    \n",
    "    def accuracy(self, X, y):\n",
    "        y_pred = self.predict(X)\n",
    "        return sum(y_pred==y)/y.shape[0]        "
   ]
  },
  {
   "cell_type": "code",
   "execution_count": 3,
   "metadata": {},
   "outputs": [],
   "source": [
    "def cross_validation(\n",
    "    model,\n",
    "    folds=10,\n",
    "    root_name_X = 'trainData',\n",
    "    root_name_y = 'trainLabels',\n",
    "    root_path = '/home/jivjotsingh/Desktop/PracticeML/ML@Waterloo/knn-dataset/'\n",
    "    ):\n",
    "    X_subsets = [np.loadtxt(root_path + root_name_X + f'{i+1}.csv', delimiter=',') for i in range(folds)]\n",
    "    y_subsets = [np.loadtxt(root_path + root_name_y + f'{i+1}.csv', delimiter=',') for i in range(folds)]\n",
    "    train_accuracy = 0\n",
    "    validation_accuracy = 0\n",
    "    \n",
    "    for i in range(folds):\n",
    "        val_X_subset, val_y_subset = X_subsets[0], y_subsets[0]\n",
    "        X_subsets.remove(val_X_subset)\n",
    "        y_subsets.remove(val_y_subset)\n",
    "        \n",
    "        X_stacked, y_stacked = np.vstack(tuple(X_subsets)), np.hstack(tuple(y_subsets))\n",
    "        \n",
    "        model.fit(X_stacked, y_stacked)\n",
    "        train_accuracy += model.accuracy(X_stacked, y_stacked)\n",
    "        validation_accuracy += model.accuracy(val_X_subset, val_y_subset)\n",
    "        \n",
    "        X_subsets.append(val_X_subset)\n",
    "        y_subsets.append(val_y_subset)\n",
    "    return train_accuracy/folds, validation_accuracy/folds"
   ]
  },
  {
   "cell_type": "code",
   "execution_count": 4,
   "metadata": {},
   "outputs": [],
   "source": [
    "train_record, validation_record = [], []\n",
    "k_range = range(1,31)\n",
    "\n",
    "for k in k_range:\n",
    "    KNN = KNearestNeighbors(k)\n",
    "    t, v = cross_validation(KNN, 10)\n",
    "    train_record.append(t), validation_record.append(v)"
   ]
  },
  {
   "cell_type": "code",
   "execution_count": 5,
   "metadata": {},
   "outputs": [
    {
     "data": {
      "image/png": "[encoded data removed]",
      "text/plain": [
       "<Figure size 640x480 with 1 Axes>"
      ]
     },
     "metadata": {},
     "output_type": "display_data"
    },
    {
     "name": "stdout",
     "output_type": "stream",
     "text": [
      "Optimal k value: 22\n"
     ]
    }
   ],
   "source": [
    "plt.plot(k_range, train_record, 'blue', label='Training')\n",
    "plt.plot(k_range, validation_record, 'red', label='Validation')\n",
    "plt.xlabel('K')\n",
    "plt.ylabel('Accuracy')\n",
    "plt.legend()\n",
    "plt.show()\n",
    "k_star = k_range[np.argmax(validation_record)]\n",
    "print(f'Optimal k value: {k_star}')"
   ]
  },
  {
   "cell_type": "code",
   "execution_count": 6,
   "metadata": {},
   "outputs": [
    {
     "name": "stdout",
     "output_type": "stream",
     "text": [
      "Training Accuracy: 0.848\n",
      "Test Accuracy: 0.809\n"
     ]
    }
   ],
   "source": [
    "root_path = '/home/jivjotsingh/Desktop/PracticeML/ML@Waterloo/knn-dataset/'\n",
    "X_ = [np.loadtxt(root_path+f'trainData{i+1}.csv', delimiter=',') for i in range(10)]\n",
    "y_ = [np.loadtxt(root_path+f'trainLabels{i+1}.csv', delimiter=',') for i in range(10)]\n",
    "X_test = np.loadtxt(root_path+'testData.csv', delimiter=',')\n",
    "y_test = np.loadtxt(root_path+'testLabels.csv', delimiter=',')\n",
    "X_stacked, y_stacked = np.vstack(tuple(X_)), np.hstack(tuple(y_))\n",
    "KNN = KNearestNeighbors(k=k_star)\n",
    "KNN.fit(X_stacked, y_stacked)\n",
    "print(f'Training Accuracy: {round(KNN.accuracy(X_stacked, y_stacked),3)}')\n",
    "print(f'Test Accuracy: {round(KNN.accuracy(X_test, y_test),3)}')"
   ]
  },
  {
   "cell_type": "code",
   "execution_count": 7,
   "metadata": {},
   "outputs": [],
   "source": [
    "def visualize_2Dboundary(model, X, y, mesh_size=0.2):\n",
    "    x_min, x_max = X[:, 0].min() - 1, X[:, 0].max() + 1\n",
    "    y_min, y_max = X[:, 1].min() - 1, X[:, 1].max() + 1\n",
    "    xx, yy = np.meshgrid(np.arange(x_min, x_max, mesh_size),\n",
    "                         np.arange(y_min, y_max, mesh_size))\n",
    "    z = np.array([xx.ravel(), yy.ravel()]).T\n",
    "    predictions = model.predict(z)\n",
    "    fig = px.scatter(x=X[:,0], y=X[:,1], color=y_stacked,\n",
    "                     color_continuous_scale=['red', 'yellow'])\n",
    "    fig.add_contour(x=xx.flatten(), y=yy.flatten(), z=predictions,\n",
    "                    opacity=0.5, showscale=False, colorscale=['red', 'yellow']\n",
    "                    )\n",
    "    fig.update_coloraxes(showscale=False)\n",
    "    fig.update_layout(width=600, height=600, template='plotly_dark')\n",
    "    return fig"
   ]
  },
  {
   "cell_type": "code",
   "execution_count": 9,
   "metadata": {},
   "outputs": [],
   "source": [
    "pca = PCA(n_components=2)\n",
    "history = []\n",
    "X_reduced = pca.fit_transform(X_stacked)\n",
    "for i in range(1,51):\n",
    "    knn = KNearestNeighbors(i)\n",
    "    knn.fit(X_reduced, y_stacked)\n",
    "    history.append(knn.accuracy(X_reduced, y_stacked))\n",
    "    fig = visualize_2Dboundary(knn, X_reduced, y_stacked, 0.5)\n",
    "    fig.write_image(f'/home/jivjotsingh/Desktop/GitHubRepos/MLfromScratch/images/{i}.png')"
   ]
  },
  {
   "cell_type": "code",
   "execution_count": 27,
   "metadata": {},
   "outputs": [],
   "source": [
    "epochs=51\n",
    "import os\n",
    "from PIL import Image, ImageDraw, ImageFont\n",
    "def create_animation(image_folder, output_path, frame_duration=100, loop=True):\n",
    "    images = []\n",
    "    font_size = 15\n",
    "    for i in range(1, epochs):\n",
    "        filename = f'{i}.png'\n",
    "        image_path = os.path.join(image_folder, filename)\n",
    "        img = Image.open(image_path)\n",
    "        draw = ImageDraw.Draw(img)\n",
    "        font = ImageFont.truetype(\"/usr/share/fonts/truetype/freefont/FreeMono.ttf\", size=font_size)\n",
    "        draw.text((40, 40), f'k: {i}/{epochs-1} \\nAccuracy: {history[i-1]}', fill='white', font=font)\n",
    "        draw.text((220,40), f'K-Nearest Neighbors', fill='white', font=font, align='center')\n",
    "        images.append(img)\n",
    "    images[0].save(output_path, save_all=True, append_images=images[1:], duration=frame_duration, loop=0 if loop else 1)\n",
    "\n",
    "if __name__ == \"__main__\":\n",
    "    folder_path = \"/home/jivjotsingh/Desktop/GitHubRepos/MLfromScratch/images\"\n",
    "    output_gif_path = \"knn.gif\"\n",
    "    frame_duration_ms = 300\n",
    "    loop_animation = True\n",
    "    create_animation(folder_path, output_gif_path, frame_duration_ms, loop_animation)"
   ]
  },
  {
   "cell_type": "code",
   "execution_count": null,
   "metadata": {},
   "outputs": [],
   "source": []
  }
 ],
 "metadata": {
  "kernelspec": {
   "display_name": "updated-python",
   "language": "python",
   "name": "python3"
  },
  "language_info": {
   "codemirror_mode": {
    "name": "ipython",
    "version": 3
   },
   "file_extension": ".py",
   "mimetype": "text/x-python",
   "name": "python",
   "nbconvert_exporter": "python",
   "pygments_lexer": "ipython3",
   "version": "3.11.4"
  },
  "orig_nbformat": 4
 },
 "nbformat": 4,
 "nbformat_minor": 2
}
