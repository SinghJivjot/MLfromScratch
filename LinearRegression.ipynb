{
 "cells": [
  {
   "cell_type": "code",
   "execution_count": 1,
   "metadata": {},
   "outputs": [],
   "source": [
    "import numpy as np\n",
    "import plotly.graph_objects as go\n",
    "import plotly.express as px"
   ]
  },
  {
   "cell_type": "code",
   "execution_count": 2,
   "metadata": {},
   "outputs": [],
   "source": [
    "class LinearRegression:\n",
    "    def __init__(\n",
    "        self, \n",
    "        reg=1e-3, \n",
    "        lr=1e-2, \n",
    "        epochs=1000,\n",
    "        threshold=1e-8,\n",
    "        method='normal_eqn',\n",
    "        seed=None\n",
    "        ):\n",
    "        self.lr = lr\n",
    "        self.reg = reg\n",
    "        self.epochs = epochs\n",
    "        self.seed = seed\n",
    "        self.threshold = threshold\n",
    "        self.method = method\n",
    "    \n",
    "    def fit(self, X_train, y_train):\n",
    "        self.X_train = np.concatenate((np.ones(shape=(X_train.shape[0], 1)), X_train), axis=1)\n",
    "        self.y_train = y_train\n",
    "        if self.method == 'normal_eqn':\n",
    "            weights = self.normal_eqn()\n",
    "        if self.method == 'gradient_descent':\n",
    "            weights = self.gradient_descent()\n",
    "        \n",
    "        return weights\n",
    "    \n",
    "    def predict(self, X):\n",
    "        X = np.concatenate((np.ones(shape=(X.shape[0], 1)), X), axis=1)\n",
    "        y_pred = np.matmul(X, self.learnt_weights)\n",
    "        return y_pred\n",
    "    \n",
    "    def init_weights(self,):\n",
    "        m = self.X_train.shape[1]\n",
    "        np.random.seed(self.seed)\n",
    "        random_weights = np.random.rand(m, 1)\n",
    "        \n",
    "        return random_weights\n",
    "    \n",
    "    def gradient_descent(self,):\n",
    "        random_weights = self.init_weights()        \n",
    "        weights = random_weights.copy()\n",
    "        y_pred = np.matmul(self.X_train, weights)\n",
    "        \n",
    "        cost_history = [self.mean_squared_error(self.y_train, y_pred) + self.l2_penalty(weights)]\n",
    "        weights_history = [weights]\n",
    "        \n",
    "        for i in range(self.epochs):\n",
    "            gradient = -2 * np.mean(np.matmul(self.X_train.T, (self.y_train - y_pred))) + self.reg*weights\n",
    "            update_value = -self.lr*gradient\n",
    "            weights += update_value\n",
    "            \n",
    "            y_pred = np.matmul(self.X_train, weights)\n",
    "            cost_history.append(self.mean_squared_error(self.y_train, y_pred))\n",
    "            weights_history.append(weights) \n",
    "            \n",
    "            # if abs(cost_history[-1] - cost_history[-2]) <= self.threshold:\n",
    "            #     print(f'Stopping algorithm because cost has stopped decreasing beyond threshold at epoch {i}')\n",
    "            #     break\n",
    "            \n",
    "        self.weights_history, self.cost_history = weights_history, cost_history\n",
    "        self.learnt_weights = weights\n",
    "        \n",
    "        return weights \n",
    "    \n",
    "    def normal_eqn(self,):\n",
    "        m = self.X_train.shape[1]        \n",
    "        XTy = np.matmul(self.X_train.T, self.y_train)\n",
    "        penalty_term = self.reg * np.eye(m)\n",
    "        \n",
    "        inverse_term = np.linalg.inv(penalty_term + np.matmul(self.X_train.T, self.X_train))\n",
    "        weights = np.matmul(inverse_term, XTy)\n",
    "        self.learnt_weights = weights\n",
    "        \n",
    "        return weights\n",
    "    \n",
    "    def mean_squared_error(self, y, y_hat):\n",
    "        return np.mean((y - y_hat)**2)\n",
    "            \n",
    "    def l2_penalty(self, weights):\n",
    "        return 0.5 * self.reg * np.matmul(weights.T, weights)"
   ]
  },
  {
   "cell_type": "code",
   "execution_count": 3,
   "metadata": {},
   "outputs": [],
   "source": [
    "def cross_validation(\n",
    "    model,\n",
    "    folds=10,\n",
    "    root_name_X = 'trainInput',\n",
    "    root_name_y = 'trainTarget',\n",
    "    root_path = '/home/jivjotsingh/Desktop/PracticeML/ML@Waterloo/regression-dataset/'\n",
    "    ):\n",
    "    X_subsets = [np.loadtxt(root_path + root_name_X + f'{i+1}.csv', delimiter=',') for i in range(folds)]\n",
    "    y_subsets = [np.loadtxt(root_path + root_name_y + f'{i+1}.csv', delimiter=',') for i in range(folds)]\n",
    "    train_error = 0\n",
    "    validation_error = 0\n",
    "    \n",
    "    for i in range(folds):\n",
    "        val_X_subset, val_y_subset = X_subsets[0], y_subsets[0]\n",
    "        X_subsets.remove(val_X_subset)\n",
    "        y_subsets.remove(val_y_subset)\n",
    "        \n",
    "        X_stacked, y_stacked = np.vstack(tuple(X_subsets)), np.hstack(tuple(y_subsets))\n",
    "        \n",
    "        model.fit(X_stacked, y_stacked)\n",
    "        train_pred, val_pred = model.predict(X_stacked), model.predict(val_X_subset)\n",
    "        train_error += model.mean_squared_error(y_stacked, train_pred)\n",
    "        validation_error += model.mean_squared_error(val_y_subset, val_pred)\n",
    "        \n",
    "        X_subsets.append(val_X_subset)\n",
    "        y_subsets.append(val_y_subset)\n",
    "        \n",
    "    return train_error/folds, validation_error/folds"
   ]
  },
  {
   "cell_type": "code",
   "execution_count": 4,
   "metadata": {},
   "outputs": [
    {
     "data": {
      "application/vnd.plotly.v1+json": {
       "config": {
        "plotlyServerURL": "https://plot.ly"
       },
       "data": [
        {
         "line": {
          "color": "blue"
         },
         "mode": "lines",
         "name": "Training",
         "type": "scatter",
         "x": [
          0,
          0.1,
          0.2,
          0.30000000000000004,
          0.4,
          0.5,
          0.6000000000000001,
          0.7000000000000001,
          0.8,
          0.9,
          1,
          1.1,
          1.2000000000000002,
          1.3,
          1.4000000000000001,
          1.5,
          1.6,
          1.7000000000000002,
          1.8,
          1.9000000000000001,
          2,
          2.1,
          2.2,
          2.3000000000000003,
          2.4000000000000004,
          2.5,
          2.6,
          2.7,
          2.8000000000000003,
          2.9000000000000004,
          3,
          3.1,
          3.2,
          3.3000000000000003,
          3.4000000000000004,
          3.5,
          3.6,
          3.7,
          3.8000000000000003,
          3.9000000000000004,
          4
         ],
         "y": [
          1.3022025341988128,
          1.302211995593924,
          1.3022398873110852,
          1.302285492438222,
          1.302348122094676,
          1.3024271142064558,
          1.302521832341996,
          1.3026316646050586,
          1.302756022581629,
          1.3028943403378401,
          1.3030460734661489,
          1.3032106981771605,
          1.303387710434634,
          1.3035766251313774,
          1.303776975303854,
          1.3039883113834618,
          1.3042102004825653,
          1.3044422257134711,
          1.3046839855386416,
          1.3049350931505375,
          1.3051951758795841,
          1.3054638746288227,
          1.3057408433339055,
          1.3060257484471607,
          1.3063182684445271,
          1.3066180933542209,
          1.3069249243060699,
          1.3072384731004938,
          1.3075584617961775,
          1.3078846223155318,
          1.3082166960670816,
          1.3085544335839692,
          1.3088975941778123,
          1.3092459456071786,
          1.309599263759996,
          1.3099573323492373,
          1.3103199426212737,
          1.3106868930762883,
          1.311057989200219,
          1.311433043207678,
          1.3118118737953621
         ]
        },
        {
         "line": {
          "color": "red"
         },
         "mode": "lines",
         "name": "Validation",
         "type": "scatter",
         "x": [
          0,
          0.1,
          0.2,
          0.30000000000000004,
          0.4,
          0.5,
          0.6000000000000001,
          0.7000000000000001,
          0.8,
          0.9,
          1,
          1.1,
          1.2000000000000002,
          1.3,
          1.4000000000000001,
          1.5,
          1.6,
          1.7000000000000002,
          1.8,
          1.9000000000000001,
          2,
          2.1,
          2.2,
          2.3000000000000003,
          2.4000000000000004,
          2.5,
          2.6,
          2.7,
          2.8000000000000003,
          2.9000000000000004,
          3,
          3.1,
          3.2,
          3.3000000000000003,
          3.4000000000000004,
          3.5,
          3.6,
          3.7,
          3.8000000000000003,
          3.9000000000000004,
          4
         ],
         "y": [
          1.3473983461710732,
          1.3471821088904785,
          1.3469874829148245,
          1.3468136765219767,
          1.3466599284773535,
          1.3465255067068695,
          1.3464097070354886,
          1.3463118519877268,
          1.3462312896466853,
          1.3461673925683886,
          1.346119556748413,
          1.346087200637966,
          1.3460697642067616,
          1.3460667080501714,
          1.346077512538314,
          1.3461016770048555,
          1.3461387189734413,
          1.346188173419796,
          1.346249592067641,
          1.3463225427166923,
          1.346406608601088,
          1.3465013877767071,
          1.346606492535914,
          1.346721548848345,
          1.3468461958264475,
          1.3469800852145353,
          1.3471228809001956,
          1.3472742584469604,
          1.3474339046471981,
          1.3476015170942441,
          1.3477768037728461,
          1.3479594826670431,
          1.3481492813846496,
          1.348345936797552,
          1.3485491946970773,
          1.3487588094637248,
          1.34897454375059,
          1.3491961681798512,
          1.3494234610517035,
          1.349656208065185,
          1.349894202050342
         ]
        }
       ],
       "layout": {
        "height": 600,
        "legend": {
         "x": 1.05,
         "y": 1
        },
        "template": {
         "data": {
          "bar": [
           {
            "error_x": {
             "color": "#2a3f5f"
            },
            "error_y": {
             "color": "#2a3f5f"
            },
            "marker": {
             "line": {
              "color": "#E5ECF6",
              "width": 0.5
             },
             "pattern": {
              "fillmode": "overlay",
              "size": 10,
              "solidity": 0.2
             }
            },
            "type": "bar"
           }
          ],
          "barpolar": [
           {
            "marker": {
             "line": {
              "color": "#E5ECF6",
              "width": 0.5
             },
             "pattern": {
              "fillmode": "overlay",
              "size": 10,
              "solidity": 0.2
             }
            },
            "type": "barpolar"
           }
          ],
          "carpet": [
           {
            "aaxis": {
             "endlinecolor": "#2a3f5f",
             "gridcolor": "white",
             "linecolor": "white",
             "minorgridcolor": "white",
             "startlinecolor": "#2a3f5f"
            },
            "baxis": {
             "endlinecolor": "#2a3f5f",
             "gridcolor": "white",
             "linecolor": "white",
             "minorgridcolor": "white",
             "startlinecolor": "#2a3f5f"
            },
            "type": "carpet"
           }
          ],
          "choropleth": [
           {
            "colorbar": {
             "outlinewidth": 0,
             "ticks": ""
            },
            "type": "choropleth"
           }
          ],
          "contour": [
           {
            "colorbar": {
             "outlinewidth": 0,
             "ticks": ""
            },
            "colorscale": [
             [
              0,
              "#0d0887"
             ],
             [
              0.1111111111111111,
              "#46039f"
             ],
             [
              0.2222222222222222,
              "#7201a8"
             ],
             [
              0.3333333333333333,
              "#9c179e"
             ],
             [
              0.4444444444444444,
              "#bd3786"
             ],
             [
              0.5555555555555556,
              "#d8576b"
             ],
             [
              0.6666666666666666,
              "#ed7953"
             ],
             [
              0.7777777777777778,
              "#fb9f3a"
             ],
             [
              0.8888888888888888,
              "#fdca26"
             ],
             [
              1,
              "#f0f921"
             ]
            ],
            "type": "contour"
           }
          ],
          "contourcarpet": [
           {
            "colorbar": {
             "outlinewidth": 0,
             "ticks": ""
            },
            "type": "contourcarpet"
           }
          ],
          "heatmap": [
           {
            "colorbar": {
             "outlinewidth": 0,
             "ticks": ""
            },
            "colorscale": [
             [
              0,
              "#0d0887"
             ],
             [
              0.1111111111111111,
              "#46039f"
             ],
             [
              0.2222222222222222,
              "#7201a8"
             ],
             [
              0.3333333333333333,
              "#9c179e"
             ],
             [
              0.4444444444444444,
              "#bd3786"
             ],
             [
              0.5555555555555556,
              "#d8576b"
             ],
             [
              0.6666666666666666,
              "#ed7953"
             ],
             [
              0.7777777777777778,
              "#fb9f3a"
             ],
             [
              0.8888888888888888,
              "#fdca26"
             ],
             [
              1,
              "#f0f921"
             ]
            ],
            "type": "heatmap"
           }
          ],
          "heatmapgl": [
           {
            "colorbar": {
             "outlinewidth": 0,
             "ticks": ""
            },
            "colorscale": [
             [
              0,
              "#0d0887"
             ],
             [
              0.1111111111111111,
              "#46039f"
             ],
             [
              0.2222222222222222,
              "#7201a8"
             ],
             [
              0.3333333333333333,
              "#9c179e"
             ],
             [
              0.4444444444444444,
              "#bd3786"
             ],
             [
              0.5555555555555556,
              "#d8576b"
             ],
             [
              0.6666666666666666,
              "#ed7953"
             ],
             [
              0.7777777777777778,
              "#fb9f3a"
             ],
             [
              0.8888888888888888,
              "#fdca26"
             ],
             [
              1,
              "#f0f921"
             ]
            ],
            "type": "heatmapgl"
           }
          ],
          "histogram": [
           {
            "marker": {
             "pattern": {
              "fillmode": "overlay",
              "size": 10,
              "solidity": 0.2
             }
            },
            "type": "histogram"
           }
          ],
          "histogram2d": [
           {
            "colorbar": {
             "outlinewidth": 0,
             "ticks": ""
            },
            "colorscale": [
             [
              0,
              "#0d0887"
             ],
             [
              0.1111111111111111,
              "#46039f"
             ],
             [
              0.2222222222222222,
              "#7201a8"
             ],
             [
              0.3333333333333333,
              "#9c179e"
             ],
             [
              0.4444444444444444,
              "#bd3786"
             ],
             [
              0.5555555555555556,
              "#d8576b"
             ],
             [
              0.6666666666666666,
              "#ed7953"
             ],
             [
              0.7777777777777778,
              "#fb9f3a"
             ],
             [
              0.8888888888888888,
              "#fdca26"
             ],
             [
              1,
              "#f0f921"
             ]
            ],
            "type": "histogram2d"
           }
          ],
          "histogram2dcontour": [
           {
            "colorbar": {
             "outlinewidth": 0,
             "ticks": ""
            },
            "colorscale": [
             [
              0,
              "#0d0887"
             ],
             [
              0.1111111111111111,
              "#46039f"
             ],
             [
              0.2222222222222222,
              "#7201a8"
             ],
             [
              0.3333333333333333,
              "#9c179e"
             ],
             [
              0.4444444444444444,
              "#bd3786"
             ],
             [
              0.5555555555555556,
              "#d8576b"
             ],
             [
              0.6666666666666666,
              "#ed7953"
             ],
             [
              0.7777777777777778,
              "#fb9f3a"
             ],
             [
              0.8888888888888888,
              "#fdca26"
             ],
             [
              1,
              "#f0f921"
             ]
            ],
            "type": "histogram2dcontour"
           }
          ],
          "mesh3d": [
           {
            "colorbar": {
             "outlinewidth": 0,
             "ticks": ""
            },
            "type": "mesh3d"
           }
          ],
          "parcoords": [
           {
            "line": {
             "colorbar": {
              "outlinewidth": 0,
              "ticks": ""
             }
            },
            "type": "parcoords"
           }
          ],
          "pie": [
           {
            "automargin": true,
            "type": "pie"
           }
          ],
          "scatter": [
           {
            "fillpattern": {
             "fillmode": "overlay",
             "size": 10,
             "solidity": 0.2
            },
            "type": "scatter"
           }
          ],
          "scatter3d": [
           {
            "line": {
             "colorbar": {
              "outlinewidth": 0,
              "ticks": ""
             }
            },
            "marker": {
             "colorbar": {
              "outlinewidth": 0,
              "ticks": ""
             }
            },
            "type": "scatter3d"
           }
          ],
          "scattercarpet": [
           {
            "marker": {
             "colorbar": {
              "outlinewidth": 0,
              "ticks": ""
             }
            },
            "type": "scattercarpet"
           }
          ],
          "scattergeo": [
           {
            "marker": {
             "colorbar": {
              "outlinewidth": 0,
              "ticks": ""
             }
            },
            "type": "scattergeo"
           }
          ],
          "scattergl": [
           {
            "marker": {
             "colorbar": {
              "outlinewidth": 0,
              "ticks": ""
             }
            },
            "type": "scattergl"
           }
          ],
          "scattermapbox": [
           {
            "marker": {
             "colorbar": {
              "outlinewidth": 0,
              "ticks": ""
             }
            },
            "type": "scattermapbox"
           }
          ],
          "scatterpolar": [
           {
            "marker": {
             "colorbar": {
              "outlinewidth": 0,
              "ticks": ""
             }
            },
            "type": "scatterpolar"
           }
          ],
          "scatterpolargl": [
           {
            "marker": {
             "colorbar": {
              "outlinewidth": 0,
              "ticks": ""
             }
            },
            "type": "scatterpolargl"
           }
          ],
          "scatterternary": [
           {
            "marker": {
             "colorbar": {
              "outlinewidth": 0,
              "ticks": ""
             }
            },
            "type": "scatterternary"
           }
          ],
          "surface": [
           {
            "colorbar": {
             "outlinewidth": 0,
             "ticks": ""
            },
            "colorscale": [
             [
              0,
              "#0d0887"
             ],
             [
              0.1111111111111111,
              "#46039f"
             ],
             [
              0.2222222222222222,
              "#7201a8"
             ],
             [
              0.3333333333333333,
              "#9c179e"
             ],
             [
              0.4444444444444444,
              "#bd3786"
             ],
             [
              0.5555555555555556,
              "#d8576b"
             ],
             [
              0.6666666666666666,
              "#ed7953"
             ],
             [
              0.7777777777777778,
              "#fb9f3a"
             ],
             [
              0.8888888888888888,
              "#fdca26"
             ],
             [
              1,
              "#f0f921"
             ]
            ],
            "type": "surface"
           }
          ],
          "table": [
           {
            "cells": {
             "fill": {
              "color": "#EBF0F8"
             },
             "line": {
              "color": "white"
             }
            },
            "header": {
             "fill": {
              "color": "#C8D4E3"
             },
             "line": {
              "color": "white"
             }
            },
            "type": "table"
           }
          ]
         },
         "layout": {
          "annotationdefaults": {
           "arrowcolor": "#2a3f5f",
           "arrowhead": 0,
           "arrowwidth": 1
          },
          "autotypenumbers": "strict",
          "coloraxis": {
           "colorbar": {
            "outlinewidth": 0,
            "ticks": ""
           }
          },
          "colorscale": {
           "diverging": [
            [
             0,
             "#8e0152"
            ],
            [
             0.1,
             "#c51b7d"
            ],
            [
             0.2,
             "#de77ae"
            ],
            [
             0.3,
             "#f1b6da"
            ],
            [
             0.4,
             "#fde0ef"
            ],
            [
             0.5,
             "#f7f7f7"
            ],
            [
             0.6,
             "#e6f5d0"
            ],
            [
             0.7,
             "#b8e186"
            ],
            [
             0.8,
             "#7fbc41"
            ],
            [
             0.9,
             "#4d9221"
            ],
            [
             1,
             "#276419"
            ]
           ],
           "sequential": [
            [
             0,
             "#0d0887"
            ],
            [
             0.1111111111111111,
             "#46039f"
            ],
            [
             0.2222222222222222,
             "#7201a8"
            ],
            [
             0.3333333333333333,
             "#9c179e"
            ],
            [
             0.4444444444444444,
             "#bd3786"
            ],
            [
             0.5555555555555556,
             "#d8576b"
            ],
            [
             0.6666666666666666,
             "#ed7953"
            ],
            [
             0.7777777777777778,
             "#fb9f3a"
            ],
            [
             0.8888888888888888,
             "#fdca26"
            ],
            [
             1,
             "#f0f921"
            ]
           ],
           "sequentialminus": [
            [
             0,
             "#0d0887"
            ],
            [
             0.1111111111111111,
             "#46039f"
            ],
            [
             0.2222222222222222,
             "#7201a8"
            ],
            [
             0.3333333333333333,
             "#9c179e"
            ],
            [
             0.4444444444444444,
             "#bd3786"
            ],
            [
             0.5555555555555556,
             "#d8576b"
            ],
            [
             0.6666666666666666,
             "#ed7953"
            ],
            [
             0.7777777777777778,
             "#fb9f3a"
            ],
            [
             0.8888888888888888,
             "#fdca26"
            ],
            [
             1,
             "#f0f921"
            ]
           ]
          },
          "colorway": [
           "#636efa",
           "#EF553B",
           "#00cc96",
           "#ab63fa",
           "#FFA15A",
           "#19d3f3",
           "#FF6692",
           "#B6E880",
           "#FF97FF",
           "#FECB52"
          ],
          "font": {
           "color": "#2a3f5f"
          },
          "geo": {
           "bgcolor": "white",
           "lakecolor": "white",
           "landcolor": "#E5ECF6",
           "showlakes": true,
           "showland": true,
           "subunitcolor": "white"
          },
          "hoverlabel": {
           "align": "left"
          },
          "hovermode": "closest",
          "mapbox": {
           "style": "light"
          },
          "paper_bgcolor": "white",
          "plot_bgcolor": "#E5ECF6",
          "polar": {
           "angularaxis": {
            "gridcolor": "white",
            "linecolor": "white",
            "ticks": ""
           },
           "bgcolor": "#E5ECF6",
           "radialaxis": {
            "gridcolor": "white",
            "linecolor": "white",
            "ticks": ""
           }
          },
          "scene": {
           "xaxis": {
            "backgroundcolor": "#E5ECF6",
            "gridcolor": "white",
            "gridwidth": 2,
            "linecolor": "white",
            "showbackground": true,
            "ticks": "",
            "zerolinecolor": "white"
           },
           "yaxis": {
            "backgroundcolor": "#E5ECF6",
            "gridcolor": "white",
            "gridwidth": 2,
            "linecolor": "white",
            "showbackground": true,
            "ticks": "",
            "zerolinecolor": "white"
           },
           "zaxis": {
            "backgroundcolor": "#E5ECF6",
            "gridcolor": "white",
            "gridwidth": 2,
            "linecolor": "white",
            "showbackground": true,
            "ticks": "",
            "zerolinecolor": "white"
           }
          },
          "shapedefaults": {
           "line": {
            "color": "#2a3f5f"
           }
          },
          "ternary": {
           "aaxis": {
            "gridcolor": "white",
            "linecolor": "white",
            "ticks": ""
           },
           "baxis": {
            "gridcolor": "white",
            "linecolor": "white",
            "ticks": ""
           },
           "bgcolor": "#E5ECF6",
           "caxis": {
            "gridcolor": "white",
            "linecolor": "white",
            "ticks": ""
           }
          },
          "title": {
           "x": 0.05
          },
          "xaxis": {
           "automargin": true,
           "gridcolor": "white",
           "linecolor": "white",
           "ticks": "",
           "title": {
            "standoff": 15
           },
           "zerolinecolor": "white",
           "zerolinewidth": 2
          },
          "yaxis": {
           "automargin": true,
           "gridcolor": "white",
           "linecolor": "white",
           "ticks": "",
           "title": {
            "standoff": 15
           },
           "zerolinecolor": "white",
           "zerolinewidth": 2
          }
         }
        },
        "title": {
         "text": "Training and Validation Curves"
        },
        "width": 600,
        "xaxis": {
         "title": {
          "text": "Regularization Constant"
         }
        },
        "yaxis": {
         "title": {
          "text": "Error"
         }
        }
       }
      }
     },
     "metadata": {},
     "output_type": "display_data"
    },
    {
     "name": "stdout",
     "output_type": "stream",
     "text": [
      "Optimal Regularization constant value: 1.3\n"
     ]
    }
   ],
   "source": [
    "train_record, validation_record = [], []\n",
    "reg_range = np.arange(0, 4.1, 0.1)\n",
    "for reg in reg_range:\n",
    "    LinReg = LinearRegression(reg=reg, method='normal_eqn')\n",
    "    t, v = cross_validation(LinReg, 10)\n",
    "    train_record.append(t), validation_record.append(v)\n",
    "\n",
    "trace_train = go.Scatter(x=reg_range, y=train_record,\n",
    "                         mode='lines', line=dict(color='blue'), name='Training')\n",
    "trace_validation = go.Scatter(x=reg_range, y=validation_record,\n",
    "                              mode='lines', line=dict(color='red'), name='Validation')\n",
    "layout = go.Layout(xaxis=dict(title='Regularization Constant'), yaxis=dict(title='Error'),\n",
    "                   legend=dict(x=1.05, y=1),\n",
    "                   title='Training and Validation Curves'\n",
    "                   )\n",
    "fig = go.Figure(data=[trace_train, trace_validation], layout=layout)\n",
    "fig.update_layout(width=600, height=600)\n",
    "fig.show()\n",
    "reg_star = reg_range[np.argmin(validation_record)]\n",
    "print(f'Optimal Regularization constant value: {reg_star}')"
   ]
  },
  {
   "cell_type": "code",
   "execution_count": 5,
   "metadata": {},
   "outputs": [],
   "source": [
    "root_path = '/home/jivjotsingh/Desktop/PracticeML/ML@Waterloo/regression-dataset/'\n",
    "X_ = [np.loadtxt(root_path+f'trainInput{i+1}.csv', delimiter=',') for i in range(10)]\n",
    "y_ = [np.loadtxt(root_path+f'trainTarget{i+1}.csv', delimiter=',') for i in range(10)]\n",
    "X_test = np.loadtxt(root_path+'testInput.csv', delimiter=',')\n",
    "y_test = np.loadtxt(root_path+'testTarget.csv', delimiter=',')\n",
    "X_stacked, y_stacked = np.vstack(tuple(X_)), np.hstack(tuple(y_))"
   ]
  },
  {
   "cell_type": "code",
   "execution_count": 6,
   "metadata": {},
   "outputs": [
    {
     "name": "stdout",
     "output_type": "stream",
     "text": [
      "Training Loss: 1.306\n",
      "Test Loss: 1.436\n"
     ]
    }
   ],
   "source": [
    "LinReg = LinearRegression(reg_star, method='normal_eqn')\n",
    "LinReg.fit(X_stacked, y_stacked)\n",
    "train_pred, test_pred = LinReg.predict(X_stacked), LinReg.predict(X_test)\n",
    "print(f'Training Loss: {round(LinReg.mean_squared_error(y_stacked, train_pred),3)}')\n",
    "print(f'Test Loss: {round(LinReg.mean_squared_error(y_test, test_pred),3)}')"
   ]
  },
  {
   "cell_type": "code",
   "execution_count": 7,
   "metadata": {},
   "outputs": [
    {
     "data": {
      "application/vnd.plotly.v1+json": {
       "config": {
        "plotlyServerURL": "https://plot.ly"
       },
       "data": [
        {
         "hovertemplate": "x=%{x}<br>y=%{y}<br>z=%{z}<extra></extra>",
         "legendgroup": "",
         "marker": {
          "color": "#636efa",
          "size": 3,
          "symbol": "circle"
         },
         "mode": "markers",
         "name": "",
         "scene": "scene",
         "showlegend": false,
         "type": "scatter3d",
         "x": [
          -0.243905,
          -0.308713,
          0.009464,
          0.235865,
          -0.363839,
          0.319389,
          0.396865,
          0.358656,
          0.395872,
          0.000003,
          -0.19508,
          0.285223,
          0.089029,
          0.407011,
          -0.325847,
          0.24126,
          -0.00623,
          0.08584,
          0.078593,
          0.37346,
          0.029083,
          -0.223361,
          0.479233,
          0.213588,
          0.445278,
          0.310682,
          -0.069526,
          0.263089,
          -0.13303,
          0.115063,
          -0.409601,
          -0.411162,
          -0.45197,
          0.344805,
          0.091761,
          0.411807,
          0.03805,
          -0.30764,
          0.478907,
          0.486821,
          0.419354,
          -0.395877,
          0.473815,
          -0.343133,
          -0.193873,
          0.151651,
          0.213053,
          -0.197648,
          0.392363,
          -0.214554,
          -0.106702,
          0.344278,
          0.427591,
          0.307734,
          -0.223176,
          -0.13052,
          0.343736,
          -0.131867,
          -0.463168,
          -0.381197,
          0.105262,
          0.424815,
          -0.308464,
          -0.22339,
          -0.151424,
          0.450599,
          -0.06805,
          -0.171685,
          -0.255928,
          0.463705,
          0.301868,
          -0.474649,
          -0.159806,
          0.103013,
          -0.078563,
          -0.092078,
          -0.25978,
          -0.308147,
          0.358386,
          -0.116767,
          -0.278684,
          -0.397209,
          0.456488,
          -0.044885,
          -0.254823,
          0.478451,
          -0.376205,
          -0.27124,
          0.2105,
          0.042931,
          -0.106466,
          0.129318,
          0.139633,
          0.411761,
          -0.324942,
          0.071727,
          0.330965,
          0.207352,
          0.446579,
          -0.04079,
          0.204634,
          0.080206,
          -0.217388,
          0.334985,
          0.215998,
          0.043136,
          -0.104628,
          0.014329,
          -0.231783,
          0.167335,
          -0.403185,
          0.485155,
          -0.405845,
          -0.490859,
          -0.193493,
          -0.09988,
          0.196504,
          0.460498,
          -0.149546,
          -0.397122,
          -0.14937,
          -0.180205,
          0.367564,
          -0.142685,
          0.267688,
          -0.324957,
          0.310686,
          0.199009,
          -0.214708,
          0.4429,
          0.414485,
          0.136778,
          -0.396204,
          -0.124929,
          0.405086,
          -0.326048,
          -0.019401,
          -0.312974,
          0.462017,
          0.123748,
          0.44431,
          0.313337,
          -0.169913,
          0.323669,
          -0.477298,
          0.198988,
          0.293772,
          0.192247,
          -0.4918,
          0.498653,
          -0.260272,
          0.325466,
          0.225496,
          -0.016622,
          0.270349,
          -0.384766,
          -0.024758,
          0.220364,
          0.36336,
          -0.044318,
          0.182112,
          -0.465895,
          -0.131974,
          -0.428777,
          0.077107,
          0.192097,
          -0.038141,
          0.033845,
          0.45642,
          -0.028732,
          -0.325941,
          0.450063,
          -0.42775,
          -0.391362,
          0.102966,
          -0.129362,
          0.271645,
          0.219225,
          0.331504,
          -0.377592,
          0.351677,
          0.369585,
          -0.364401,
          0.334077,
          0.446059,
          -0.24755,
          -0.395128,
          -0.363287,
          -0.244253,
          0.173678,
          0.309965,
          0.208581,
          -0.424143,
          -0.433236,
          -0.317603,
          0.487792,
          0.210182,
          0.347211,
          0.144107,
          0.199625
         ],
         "y": [
          0.00633,
          -0.043968,
          -0.323869,
          0.188364,
          0.192133,
          0.216261,
          0.499338,
          0.398685,
          0.257762,
          -0.331498,
          -0.427072,
          -0.141611,
          0.157231,
          -0.093933,
          -0.388839,
          -0.483927,
          0.065174,
          0.388524,
          -0.300229,
          0.345926,
          -0.297615,
          -0.279536,
          0.198501,
          0.482249,
          0.158526,
          -0.430749,
          -0.117611,
          -0.063919,
          -0.234531,
          0.021764,
          -0.166375,
          -0.188627,
          -0.378767,
          0.317526,
          -0.211541,
          -0.352682,
          0.305641,
          0.271556,
          0.190303,
          0.141886,
          0.076985,
          -0.321416,
          -0.037377,
          0.251467,
          -0.494127,
          0.001678,
          -0.001657,
          0.476125,
          0.435967,
          0.329131,
          -0.136603,
          0.223092,
          -0.058287,
          0.29445,
          0.215486,
          0.423191,
          0.01971,
          0.14242,
          0.460881,
          -0.491591,
          -0.374169,
          -0.011591,
          0.138215,
          0.480665,
          -0.395738,
          -0.031629,
          -0.483216,
          0.461689,
          -0.454168,
          -0.136391,
          0.143143,
          0.071194,
          -0.293246,
          -0.065211,
          0.294637,
          0.179449,
          -0.104185,
          -0.247264,
          -0.384667,
          0.488688,
          -0.018287,
          -0.231962,
          -0.327316,
          -0.313808,
          -0.467846,
          0.07417,
          -0.475256,
          -0.253337,
          0.388605,
          0.055695,
          0.339187,
          -0.303838,
          -0.369518,
          -0.339684,
          0.314694,
          0.134448,
          0.038748,
          -0.099826,
          0.097528,
          0.065022,
          0.130324,
          -0.439158,
          -0.190613,
          0.434138,
          0.179796,
          -0.143182,
          0.382888,
          0.112479,
          0.26801,
          -0.498291,
          -0.180675,
          -0.266958,
          -0.261609,
          -0.063401,
          0.046127,
          0.471367,
          0.010342,
          0.390332,
          -0.393076,
          0.260614,
          0.362545,
          0.039724,
          -0.327689,
          0.205094,
          -0.405684,
          -0.328046,
          -0.280952,
          -0.415743,
          0.434792,
          -0.277415,
          0.131591,
          0.413764,
          -0.278628,
          -0.082708,
          -0.36414,
          -0.220623,
          0.349462,
          0.015252,
          0.435034,
          0.267843,
          -0.242371,
          -0.412461,
          0.165061,
          0.415393,
          -0.285715,
          0.169519,
          -0.149656,
          -0.118848,
          0.023995,
          -0.032474,
          0.09966,
          0.196084,
          -0.294036,
          -0.090857,
          -0.347468,
          0.039517,
          0.040861,
          0.336132,
          -0.235785,
          0.332987,
          0.160873,
          -0.003305,
          0.427449,
          -0.410537,
          -0.267767,
          0.184701,
          0.298304,
          -0.06013,
          0.001065,
          -0.22823,
          -0.498359,
          -0.085451,
          -0.077732,
          0.173827,
          0.358917,
          0.019319,
          0.117028,
          0.463271,
          -0.076035,
          0.400289,
          -0.225762,
          -0.27402,
          0.044225,
          0.036435,
          -0.246143,
          -0.450737,
          -0.380838,
          -0.083808,
          -0.466713,
          0.163178,
          0.042044,
          0.279648,
          -0.260847,
          -0.214469,
          -0.146369,
          0.291655,
          -0.315825,
          -0.451905,
          0.321017,
          -0.283893
         ],
         "z": [
          -0.63708,
          -1.370977,
          -0.145243,
          0.45823,
          1.190616,
          1.285986,
          2.713193,
          -0.71761,
          1.603168,
          1.09481,
          0.80838,
          -1.679127,
          1.253828,
          0.13133,
          -1.893241,
          0.10674,
          -1.532488,
          2.501996,
          1.554613,
          -0.289918,
          0.029455,
          -1.947636,
          1.884613,
          -0.963934,
          -1.043326,
          -0.155541,
          -0.699879,
          0.43659,
          1.421701,
          1.508049,
          0.786612,
          -0.925053,
          -2.542804,
          1.938271,
          -2.161621,
          0.011974,
          0.390471,
          -0.418507,
          1.833628,
          1.73696,
          0.915327,
          -2.403366,
          1.202788,
          -0.042659,
          -1.052724,
          1.712085,
          1.505067,
          0.00321,
          -0.187812,
          1.649918,
          -2.168161,
          0.390115,
          1.848227,
          2.016554,
          1.866657,
          -0.638273,
          1.317912,
          0.869799,
          0.478644,
          -0.972201,
          0.330657,
          -0.536561,
          -0.909048,
          -0.223022,
          0.870872,
          1.226075,
          0.629057,
          0.417603,
          0.915683,
          0.06129,
          -0.284516,
          -0.356277,
          -1.489226,
          1.180445,
          0.929647,
          1.255069,
          -0.49986,
          -1.834204,
          -0.473084,
          2.265449,
          1.652337,
          0.777612,
          0.372573,
          0.310613,
          -0.008756,
          -0.948024,
          -0.190046,
          0.986397,
          -1.024486,
          -0.545387,
          -0.908219,
          0.153795,
          -2.142545,
          -0.952359,
          1.897598,
          -1.605932,
          -1.090583,
          1.601019,
          0.902901,
          -1.190764,
          1.372487,
          -2.426643,
          0.17578,
          -0.570656,
          1.092933,
          0.779844,
          1.617834,
          1.79724,
          -1.196853,
          -0.283084,
          -0.049979,
          0.762898,
          0.635791,
          0.652659,
          -0.492706,
          2.040643,
          0.444925,
          -0.801231,
          -0.089643,
          0.253819,
          0.637794,
          0.950286,
          -2.313051,
          0.155303,
          -1.736496,
          0.6379,
          -0.801551,
          -0.668593,
          0.603234,
          0.35959,
          -1.528051,
          -0.399763,
          -1.815138,
          -0.762827,
          0.094421,
          1.53512,
          1.192786,
          -0.139994,
          2.79705,
          0.334165,
          0.196812,
          0.325168,
          1.548812,
          0.487692,
          -1.795643,
          1.301639,
          -0.168741,
          0.562531,
          1.014345,
          -1.050033,
          1.171908,
          0.952031,
          -0.559608,
          -1.131852,
          1.272638,
          -0.342615,
          0.189535,
          0.478885,
          1.421922,
          1.755603,
          1.381955,
          -1.862436,
          0.538506,
          0.593363,
          -1.558046,
          0.923679,
          0.353688,
          1.693749,
          1.966497,
          -1.34846,
          -2.871806,
          -0.044244,
          -0.508895,
          0.684437,
          1.476024,
          -1.68028,
          2.070913,
          1.204708,
          -0.97926,
          -0.293754,
          0.925566,
          -1.791893,
          0.607496,
          -1.634715,
          -1.679329,
          -0.541602,
          0.933692,
          1.702798,
          -2.742948,
          -1.043512,
          1.68065,
          1.756181,
          -0.672256,
          0.213773,
          -1.282427,
          0.680775,
          -1.970923,
          -1.436917,
          0.794297,
          1.217242
         ]
        },
        {
         "colorscale": [
          [
           0,
           "rgb(254, 252, 205)"
          ],
          [
           0.09090909090909091,
           "rgb(239, 225, 156)"
          ],
          [
           0.18181818181818182,
           "rgb(221, 201, 106)"
          ],
          [
           0.2727272727272727,
           "rgb(194, 182, 59)"
          ],
          [
           0.36363636363636365,
           "rgb(157, 167, 21)"
          ],
          [
           0.45454545454545453,
           "rgb(116, 153, 5)"
          ],
          [
           0.5454545454545454,
           "rgb(75, 138, 20)"
          ],
          [
           0.6363636363636364,
           "rgb(35, 121, 36)"
          ],
          [
           0.7272727272727273,
           "rgb(11, 100, 44)"
          ],
          [
           0.8181818181818182,
           "rgb(18, 78, 43)"
          ],
          [
           0.9090909090909091,
           "rgb(25, 56, 34)"
          ],
          [
           1,
           "rgb(23, 35, 18)"
          ]
         ],
         "name": "Predicted Surface",
         "showlegend": false,
         "showscale": false,
         "type": "surface",
         "x": [
          -0.4918,
          -0.4718,
          -0.4518,
          -0.43179999999999996,
          -0.41179999999999994,
          -0.3917999999999999,
          -0.3717999999999999,
          -0.3517999999999999,
          -0.3317999999999999,
          -0.31179999999999986,
          -0.29179999999999984,
          -0.2717999999999998,
          -0.2517999999999998,
          -0.23179999999999978,
          -0.21179999999999977,
          -0.19179999999999975,
          -0.17179999999999973,
          -0.1517999999999997,
          -0.1317999999999997,
          -0.11179999999999968,
          -0.09179999999999966,
          -0.07179999999999964,
          -0.051799999999999624,
          -0.031799999999999606,
          -0.011799999999999589,
          0.00820000000000043,
          0.028200000000000447,
          0.048200000000000465,
          0.06820000000000048,
          0.0882000000000005,
          0.10820000000000052,
          0.12820000000000054,
          0.14820000000000055,
          0.16820000000000057,
          0.1882000000000006,
          0.2082000000000006,
          0.22820000000000062,
          0.24820000000000064,
          0.26820000000000066,
          0.2882000000000007,
          0.3082000000000007,
          0.3282000000000007,
          0.34820000000000073,
          0.36820000000000075,
          0.38820000000000077,
          0.4082000000000008,
          0.4282000000000008,
          0.4482000000000008,
          0.46820000000000084,
          0.48820000000000086
         ],
         "y": [
          -0.498359,
          -0.478359,
          -0.45835899999999996,
          -0.43835899999999994,
          -0.4183589999999999,
          -0.3983589999999999,
          -0.3783589999999999,
          -0.35835899999999987,
          -0.33835899999999985,
          -0.31835899999999984,
          -0.2983589999999998,
          -0.2783589999999998,
          -0.2583589999999998,
          -0.23835899999999977,
          -0.21835899999999975,
          -0.19835899999999973,
          -0.1783589999999997,
          -0.1583589999999997,
          -0.13835899999999968,
          -0.11835899999999966,
          -0.09835899999999964,
          -0.07835899999999962,
          -0.058358999999999606,
          -0.03835899999999959,
          -0.01835899999999957,
          0.0016410000000004477,
          0.021641000000000465,
          0.04164100000000048,
          0.0616410000000005,
          0.08164100000000052,
          0.10164100000000054,
          0.12164100000000055,
          0.14164100000000057,
          0.1616410000000006,
          0.1816410000000006,
          0.20164100000000063,
          0.22164100000000064,
          0.24164100000000066,
          0.2616410000000007,
          0.2816410000000007,
          0.3016410000000007,
          0.32164100000000073,
          0.34164100000000075,
          0.36164100000000077,
          0.3816410000000008,
          0.4016410000000008,
          0.4216410000000008,
          0.44164100000000084,
          0.46164100000000086,
          0.4816410000000009
         ],
         "z": [
          [
           -0.7847156572310714,
           -0.7761394464717741,
           -0.767563235712477,
           -0.7589870249531797,
           -0.7504108141938826,
           -0.7418346034345853,
           -0.7332583926752881,
           -0.7246821819159909,
           -0.7161059711566937,
           -0.7075297603973965,
           -0.6989535496380993,
           -0.690377338878802,
           -0.6818011281195049,
           -0.6732249173602076,
           -0.6646487066009105,
           -0.6560724958416132,
           -0.647496285082316,
           -0.6389200743230188,
           -0.6303438635637216,
           -0.6217676528044244,
           -0.6131914420451272,
           -0.60461523128583,
           -0.5960390205265328,
           -0.5874628097672355,
           -0.5788865990079384,
           -0.5703103882486411,
           -0.561734177489344,
           -0.5531579667300467,
           -0.5445817559707495,
           -0.5360055452114523,
           -0.5274293344521551,
           -0.5188531236928579,
           -0.5102769129335607,
           -0.5017007021742634,
           -0.4931244914149663,
           -0.4845482806556691,
           -0.47597206989637186,
           -0.46739585913707465,
           -0.45881964837777744,
           -0.4502434376184803,
           -0.441667226859183,
           -0.4330910160998859,
           -0.4245148053405886,
           -0.41593859458129145,
           -0.4073623838219942,
           -0.39878617306269704,
           -0.39020996230339977,
           -0.3816337515441026,
           -0.37305754078480535,
           -0.3644813300255082
          ],
          [
           -0.7558860095829351,
           -0.7473097988236378,
           -0.7387335880643406,
           -0.7301573773050434,
           -0.7215811665457462,
           -0.713004955786449,
           -0.7044287450271518,
           -0.6958525342678545,
           -0.6872763235085574,
           -0.6787001127492601,
           -0.670123901989963,
           -0.6615476912306657,
           -0.6529714804713685,
           -0.6443952697120713,
           -0.6358190589527741,
           -0.6272428481934769,
           -0.6186666374341797,
           -0.6100904266748824,
           -0.6015142159155853,
           -0.592938005156288,
           -0.5843617943969909,
           -0.5757855836376936,
           -0.5672093728783965,
           -0.5586331621190992,
           -0.550056951359802,
           -0.5414807406005048,
           -0.5329045298412076,
           -0.5243283190819104,
           -0.5157521083226132,
           -0.5071758975633159,
           -0.4985996868040188,
           -0.4900234760447216,
           -0.48144726528542436,
           -0.47287105452612715,
           -0.46429484376682995,
           -0.45571863300753274,
           -0.4471424222482355,
           -0.4385662114889383,
           -0.4299900007296411,
           -0.42141378997034395,
           -0.4128375792110467,
           -0.40426136845174954,
           -0.39568515769245227,
           -0.3871089469331551,
           -0.37853273617385785,
           -0.3699565254145607,
           -0.36138031465526343,
           -0.3528041038959663,
           -0.344227893136669,
           -0.33565168237737186
          ],
          [
           -0.7270563619347987,
           -0.7184801511755015,
           -0.7099039404162043,
           -0.701327729656907,
           -0.6927515188976099,
           -0.6841753081383126,
           -0.6755990973790155,
           -0.6670228866197182,
           -0.658446675860421,
           -0.6498704651011238,
           -0.6412942543418266,
           -0.6327180435825294,
           -0.6241418328232322,
           -0.615565622063935,
           -0.6069894113046378,
           -0.5984132005453405,
           -0.5898369897860434,
           -0.5812607790267462,
           -0.572684568267449,
           -0.5641083575081518,
           -0.5555321467488545,
           -0.5469559359895574,
           -0.5383797252302601,
           -0.529803514470963,
           -0.5212273037116657,
           -0.5126510929523685,
           -0.5040748821930713,
           -0.4954986714337741,
           -0.48692246067447686,
           -0.47834624991517966,
           -0.46977003915588245,
           -0.46119382839658524,
           -0.45261761763728803,
           -0.4440414068779908,
           -0.4354651961186936,
           -0.4268889853593964,
           -0.4183127746000992,
           -0.409736563840802,
           -0.4011603530815048,
           -0.3925841423222076,
           -0.38400793156291035,
           -0.3754317208036132,
           -0.36685551004431594,
           -0.3582792992850188,
           -0.3497030885257215,
           -0.34112687776642436,
           -0.3325506670071271,
           -0.32397445624782994,
           -0.3153982454885327,
           -0.3068220347292355
          ],
          [
           -0.6982267142866624,
           -0.6896505035273651,
           -0.681074292768068,
           -0.6724980820087707,
           -0.6639218712494735,
           -0.6553456604901763,
           -0.6467694497308791,
           -0.6381932389715819,
           -0.6296170282122847,
           -0.6210408174529874,
           -0.6124646066936903,
           -0.603888395934393,
           -0.5953121851750959,
           -0.5867359744157986,
           -0.5781597636565015,
           -0.5695835528972042,
           -0.561007342137907,
           -0.5524311313786099,
           -0.5438549206193126,
           -0.5352787098600155,
           -0.5267024991007182,
           -0.518126288341421,
           -0.5095500775821238,
           -0.5009738668228266,
           -0.49239765606352937,
           -0.48382144530423216,
           -0.47524523454493495,
           -0.46666902378563774,
           -0.45809281302634053,
           -0.4495166022670433,
           -0.4409403915077461,
           -0.4323641807484489,
           -0.4237879699891517,
           -0.4152117592298545,
           -0.4066355484705573,
           -0.39805933771126006,
           -0.38948312695196285,
           -0.38090691619266565,
           -0.37233070543336844,
           -0.3637544946740713,
           -0.355178283914774,
           -0.34660207315547686,
           -0.3380258623961796,
           -0.32944965163688245,
           -0.3208734408775852,
           -0.312297230118288,
           -0.30372101935899076,
           -0.2951448085996936,
           -0.28656859784039634,
           -0.2779923870810992
          ],
          [
           -0.669397066638526,
           -0.6608208558792288,
           -0.6522446451199316,
           -0.6436684343606344,
           -0.6350922236013372,
           -0.62651601284204,
           -0.6179398020827428,
           -0.6093635913234455,
           -0.6007873805641484,
           -0.5922111698048511,
           -0.583634959045554,
           -0.5750587482862568,
           -0.5664825375269595,
           -0.5579063267676624,
           -0.5493301160083651,
           -0.540753905249068,
           -0.5321776944897707,
           -0.5236014837304735,
           -0.5150252729711763,
           -0.5064490622118791,
           -0.49787285145258187,
           -0.48929664069328466,
           -0.48072042993398745,
           -0.47214421917469024,
           -0.46356800841539303,
           -0.4549917976560958,
           -0.4464155868967986,
           -0.4378393761375014,
           -0.4292631653782042,
           -0.420686954618907,
           -0.4121107438596098,
           -0.40353453310031256,
           -0.39495832234101536,
           -0.38638211158171815,
           -0.37780590082242094,
           -0.3692296900631237,
           -0.3606534793038265,
           -0.3520772685445293,
           -0.3435010577852321,
           -0.33492484702593495,
           -0.3263486362666377,
           -0.31777242550734053,
           -0.30919621474804326,
           -0.3006200039887461,
           -0.29204379322944884,
           -0.2834675824701517,
           -0.2748913717108544,
           -0.2663151609515573,
           -0.25773895019226,
           -0.24916273943296288
          ],
          [
           -0.6405674189903897,
           -0.6319912082310926,
           -0.6234149974717953,
           -0.6148387867124981,
           -0.6062625759532009,
           -0.5976863651939037,
           -0.5891101544346065,
           -0.5805339436753093,
           -0.571957732916012,
           -0.5633815221567149,
           -0.5548053113974176,
           -0.5462291006381205,
           -0.5376528898788232,
           -0.529076679119526,
           -0.5205004683602288,
           -0.5119242576009316,
           -0.5033480468416344,
           -0.4947718360823372,
           -0.48619562532304,
           -0.4776194145637428,
           -0.4690432038044456,
           -0.4604669930451484,
           -0.45189078228585117,
           -0.44331457152655396,
           -0.43473836076725675,
           -0.42616215000795954,
           -0.41758593924866233,
           -0.4090097284893651,
           -0.4004335177300679,
           -0.3918573069707707,
           -0.3832810962114735,
           -0.3747048854521763,
           -0.3661286746928791,
           -0.35755246393358187,
           -0.34897625317428466,
           -0.34040004241498745,
           -0.33182383165569024,
           -0.32324762089639303,
           -0.3146714101370958,
           -0.30609519937779867,
           -0.2975189886185014,
           -0.28894277785920425,
           -0.280366567099907,
           -0.27179035634060983,
           -0.26321414558131256,
           -0.2546379348220154,
           -0.24606172406271812,
           -0.23748551330342096,
           -0.2289093025441237,
           -0.22033309178482655
          ],
          [
           -0.6117377713422534,
           -0.6031615605829562,
           -0.594585349823659,
           -0.5860091390643618,
           -0.5774329283050645,
           -0.5688567175457674,
           -0.5602805067864701,
           -0.551704296027173,
           -0.5431280852678757,
           -0.5345518745085786,
           -0.5259756637492813,
           -0.5173994529899841,
           -0.5088232422306869,
           -0.5002470314713897,
           -0.4916708207120925,
           -0.4830946099527953,
           -0.4745183991934981,
           -0.4659421884342009,
           -0.45736597767490367,
           -0.44878976691560646,
           -0.44021355615630925,
           -0.43163734539701204,
           -0.42306113463771483,
           -0.4144849238784176,
           -0.4059087131191204,
           -0.3973325023598232,
           -0.388756291600526,
           -0.3801800808412288,
           -0.3716038700819316,
           -0.36302765932263437,
           -0.35445144856333716,
           -0.34587523780403995,
           -0.33729902704474274,
           -0.32872281628544553,
           -0.3201466055261483,
           -0.3115703947668511,
           -0.3029941840075539,
           -0.2944179732482567,
           -0.2858417624889595,
           -0.27726555172966233,
           -0.26868934097036506,
           -0.2601131302110679,
           -0.25153691945177065,
           -0.2429607086924735,
           -0.23438449793317623,
           -0.22580828717387907,
           -0.2172320764145818,
           -0.20865586565528466,
           -0.2000796548959874,
           -0.19150344413669024
          ],
          [
           -0.582908123694117,
           -0.5743319129348199,
           -0.5657557021755226,
           -0.5571794914162255,
           -0.5486032806569282,
           -0.540027069897631,
           -0.5314508591383338,
           -0.5228746483790366,
           -0.5142984376197394,
           -0.5057222268604422,
           -0.49714601610114495,
           -0.4885698053418478,
           -0.4799935945825506,
           -0.4714173838232534,
           -0.46284117306395617,
           -0.45426496230465896,
           -0.44568875154536175,
           -0.43711254078606454,
           -0.42853633002676733,
           -0.4199601192674701,
           -0.4113839085081729,
           -0.4028076977488757,
           -0.3942314869895785,
           -0.3856552762302813,
           -0.3770790654709841,
           -0.36850285471168687,
           -0.35992664395238966,
           -0.35135043319309245,
           -0.34277422243379524,
           -0.33419801167449803,
           -0.3256218009152008,
           -0.3170455901559036,
           -0.3084693793966064,
           -0.2998931686373092,
           -0.291316957878012,
           -0.2827407471187148,
           -0.27416453635941757,
           -0.26558832560012036,
           -0.25701211484082315,
           -0.248435904081526,
           -0.23985969332222873,
           -0.23128348256293157,
           -0.2227072718036343,
           -0.21413106104433716,
           -0.2055548502850399,
           -0.19697863952574274,
           -0.18840242876644547,
           -0.17982621800714832,
           -0.17125000724785105,
           -0.1626737964885539
          ],
          [
           -0.5540784760459807,
           -0.5455022652866836,
           -0.5369260545273863,
           -0.5283498437680891,
           -0.5197736330087919,
           -0.5111974222494947,
           -0.5026212114901975,
           -0.4940450007309003,
           -0.4854687899716031,
           -0.4768925792123059,
           -0.46831636845300867,
           -0.45974015769371146,
           -0.45116394693441425,
           -0.44258773617511704,
           -0.43401152541581983,
           -0.4254353146565226,
           -0.4168591038972254,
           -0.4082828931379282,
           -0.399706682378631,
           -0.3911304716193338,
           -0.3825542608600366,
           -0.37397805010073937,
           -0.36540183934144216,
           -0.35682562858214495,
           -0.34824941782284774,
           -0.33967320706355053,
           -0.3310969963042533,
           -0.3225207855449561,
           -0.3139445747856589,
           -0.3053683640263617,
           -0.2967921532670645,
           -0.2882159425077673,
           -0.27963973174847007,
           -0.27106352098917286,
           -0.26248731022987565,
           -0.25391109947057844,
           -0.24533488871128123,
           -0.23675867795198402,
           -0.2281824671926868,
           -0.21960625643338966,
           -0.2110300456740924,
           -0.20245383491479524,
           -0.19387762415549797,
           -0.18530141339620082,
           -0.17672520263690356,
           -0.1681489918776064,
           -0.15957278111830914,
           -0.15099657035901198,
           -0.14242035959971472,
           -0.13384414884041756
          ],
          [
           -0.5252488283978444,
           -0.5166726176385472,
           -0.50809640687925,
           -0.4995201961199528,
           -0.4909439853606556,
           -0.4823677746013584,
           -0.47379156384206117,
           -0.46521535308276396,
           -0.45663914232346675,
           -0.44806293156416954,
           -0.43948672080487233,
           -0.4309105100455751,
           -0.4223342992862779,
           -0.4137580885269807,
           -0.4051818777676835,
           -0.3966056670083863,
           -0.3880294562490891,
           -0.37945324548979187,
           -0.37087703473049466,
           -0.36230082397119745,
           -0.35372461321190024,
           -0.34514840245260303,
           -0.3365721916933058,
           -0.3279959809340086,
           -0.3194197701747114,
           -0.3108435594154142,
           -0.302267348656117,
           -0.2936911378968198,
           -0.28511492713752257,
           -0.27653871637822536,
           -0.26796250561892815,
           -0.25938629485963094,
           -0.25081008410033373,
           -0.24223387334103655,
           -0.23365766258173934,
           -0.22508145182244213,
           -0.21650524106314492,
           -0.2079290303038477,
           -0.1993528195445505,
           -0.19077660878525335,
           -0.18220039802595608,
           -0.17362418726665893,
           -0.16504797650736167,
           -0.1564717657480645,
           -0.14789555498876725,
           -0.1393193442294701,
           -0.13074313347017283,
           -0.12216692271087566,
           -0.1135907119515784,
           -0.10501450119228124
          ],
          [
           -0.4964191807497081,
           -0.4878429699904109,
           -0.47926675923111367,
           -0.47069054847181646,
           -0.46211433771251925,
           -0.45353812695322204,
           -0.44496191619392483,
           -0.4363857054346276,
           -0.4278094946753304,
           -0.4192332839160332,
           -0.410657073156736,
           -0.4020808623974388,
           -0.3935046516381416,
           -0.38492844087884437,
           -0.37635223011954716,
           -0.36777601936024995,
           -0.35919980860095274,
           -0.35062359784165553,
           -0.3420473870823583,
           -0.3334711763230611,
           -0.3248949655637639,
           -0.3163187548044667,
           -0.3077425440451695,
           -0.2991663332858723,
           -0.29059012252657507,
           -0.28201391176727786,
           -0.27343770100798065,
           -0.26486149024868344,
           -0.25628527948938623,
           -0.24770906873008905,
           -0.23913285797079184,
           -0.23055664721149463,
           -0.22198043645219742,
           -0.2134042256929002,
           -0.204828014933603,
           -0.1962518041743058,
           -0.18767559341500858,
           -0.17909938265571138,
           -0.17052317189641417,
           -0.161946961137117,
           -0.15337075037781975,
           -0.1447945396185226,
           -0.13621832885922533,
           -0.12764211809992818,
           -0.11906590734063091,
           -0.11048969658133376,
           -0.10191348582203649,
           -0.09333727506273934,
           -0.08476106430344207,
           -0.07618485354414492
          ],
          [
           -0.46758953310157175,
           -0.45901332234227454,
           -0.45043711158297733,
           -0.4418609008236801,
           -0.4332846900643829,
           -0.4247084793050857,
           -0.4161322685457885,
           -0.4075560577864913,
           -0.3989798470271941,
           -0.39040363626789687,
           -0.38182742550859966,
           -0.37325121474930245,
           -0.36467500399000524,
           -0.35609879323070803,
           -0.3475225824714108,
           -0.3389463717121136,
           -0.33037016095281646,
           -0.32179395019351925,
           -0.31321773943422204,
           -0.30464152867492483,
           -0.2960653179156276,
           -0.2874891071563304,
           -0.2789128963970332,
           -0.270336685637736,
           -0.2617604748784388,
           -0.2531842641191416,
           -0.24460805335984434,
           -0.23603184260054713,
           -0.22745563184124992,
           -0.2188794210819527,
           -0.2103032103226555,
           -0.2017269995633583,
           -0.19315078880406109,
           -0.18457457804476388,
           -0.17599836728546667,
           -0.16742215652616946,
           -0.15884594576687225,
           -0.15026973500757504,
           -0.14169352424827783,
           -0.13311731348898068,
           -0.12454110272968343,
           -0.11596489197038627,
           -0.10738868121108901,
           -0.09881247045179185,
           -0.09023625969249459,
           -0.08166004893319743,
           -0.07308383817390017,
           -0.06450762741460302,
           -0.055931416655305745,
           -0.04735520589600859
          ],
          [
           -0.4387598854534354,
           -0.4301836746941382,
           -0.421607463934841,
           -0.4130312531755438,
           -0.4044550424162466,
           -0.39587883165694937,
           -0.38730262089765216,
           -0.37872641013835495,
           -0.37015019937905774,
           -0.36157398861976053,
           -0.3529977778604633,
           -0.34442156710116617,
           -0.33584535634186896,
           -0.32726914558257175,
           -0.31869293482327454,
           -0.31011672406397733,
           -0.3015405133046801,
           -0.2929643025453829,
           -0.2843880917860857,
           -0.2758118810267885,
           -0.2672356702674913,
           -0.2586594595081941,
           -0.25008324874889687,
           -0.24150703798959966,
           -0.23293082723030245,
           -0.22435461647100524,
           -0.21577840571170803,
           -0.20720219495241082,
           -0.1986259841931136,
           -0.1900497734338164,
           -0.1814735626745192,
           -0.172897351915222,
           -0.16432114115592478,
           -0.15574493039662757,
           -0.14716871963733036,
           -0.13859250887803315,
           -0.13001629811873594,
           -0.12144008735943872,
           -0.11286387660014151,
           -0.10428766584084435,
           -0.09571145508154709,
           -0.08713524432224994,
           -0.07855903356295267,
           -0.06998282280365552,
           -0.06140661204435826,
           -0.052830401285061106,
           -0.04425419052576384,
           -0.03567797976646669,
           -0.02710176900716942,
           -0.018525558247872265
          ],
          [
           -0.40993023780529914,
           -0.4013540270460019,
           -0.3927778162867047,
           -0.3842016055274075,
           -0.3756253947681103,
           -0.3670491840088131,
           -0.3584729732495159,
           -0.34989676249021867,
           -0.34132055173092146,
           -0.33274434097162425,
           -0.32416813021232704,
           -0.31559191945302983,
           -0.3070157086937326,
           -0.2984394979344354,
           -0.2898632871751382,
           -0.281287076415841,
           -0.2727108656565438,
           -0.2641346548972466,
           -0.25555844413794937,
           -0.24698223337865216,
           -0.23840602261935495,
           -0.22982981186005774,
           -0.22125360110076053,
           -0.21267739034146332,
           -0.20410117958216611,
           -0.1955249688228689,
           -0.1869487580635717,
           -0.1783725473042745,
           -0.16979633654497728,
           -0.16122012578568007,
           -0.15264391502638286,
           -0.14406770426708565,
           -0.13549149350778844,
           -0.12691528274849123,
           -0.11833907198919402,
           -0.10976286122989681,
           -0.1011866504705996,
           -0.0926104397113024,
           -0.08403422895200519,
           -0.07545801819270803,
           -0.06688180743341077,
           -0.05830559667411361,
           -0.04972938591481635,
           -0.041153175155519195,
           -0.03257696439622193,
           -0.024000753636924776,
           -0.015424542877627512,
           -0.006848332118330359,
           0.001727878640966906,
           0.01030408940026406
          ],
          [
           -0.3811005901571628,
           -0.3725243793978656,
           -0.3639481686385684,
           -0.35537195787927117,
           -0.34679574711997396,
           -0.33821953636067675,
           -0.32964332560137954,
           -0.32106711484208234,
           -0.3124909040827851,
           -0.3039146933234879,
           -0.2953384825641907,
           -0.2867622718048935,
           -0.2781860610455963,
           -0.2696098502862991,
           -0.26103363952700187,
           -0.25245742876770466,
           -0.24388121800840745,
           -0.23530500724911024,
           -0.22672879648981303,
           -0.21815258573051582,
           -0.20957637497121862,
           -0.2010001642119214,
           -0.1924239534526242,
           -0.183847742693327,
           -0.17527153193402978,
           -0.16669532117473257,
           -0.15811911041543536,
           -0.14954289965613815,
           -0.14096668889684094,
           -0.13239047813754373,
           -0.12381426737824654,
           -0.11523805661894933,
           -0.10666184585965212,
           -0.09808563510035491,
           -0.0895094243410577,
           -0.08093321358176049,
           -0.07235700282246328,
           -0.06378079206316607,
           -0.05520458130386886,
           -0.04662837054457171,
           -0.038052159785274445,
           -0.029475949025977288,
           -0.020899738266680023,
           -0.01232352750738287,
           -0.003747316748085605,
           0.004828894011211549,
           0.013405104770508814,
           0.021981315529805968,
           0.030557526289103232,
           0.03913373704840038
          ],
          [
           -0.35227094250902646,
           -0.34369473174972925,
           -0.33511852099043205,
           -0.32654231023113484,
           -0.3179660994718376,
           -0.3093898887125404,
           -0.3008136779532432,
           -0.292237467193946,
           -0.2836612564346488,
           -0.2750850456753516,
           -0.26650883491605437,
           -0.25793262415675716,
           -0.24935641339745995,
           -0.24078020263816274,
           -0.23220399187886553,
           -0.22362778111956833,
           -0.21505157036027114,
           -0.20647535960097393,
           -0.19789914884167673,
           -0.18932293808237952,
           -0.1807467273230823,
           -0.1721705165637851,
           -0.1635943058044879,
           -0.15501809504519068,
           -0.14644188428589347,
           -0.13786567352659626,
           -0.12928946276729905,
           -0.12071325200800183,
           -0.11213704124870462,
           -0.10356083048940741,
           -0.0949846197301102,
           -0.08640840897081299,
           -0.07783219821151578,
           -0.06925598745221857,
           -0.06067977669292137,
           -0.05210356593362416,
           -0.04352735517432695,
           -0.03495114441502974,
           -0.026374933655732534,
           -0.01779872289643538,
           -0.009222512137138116,
           -0.0006463013778409616,
           0.007929909381456303,
           0.016506120140753457,
           0.02508233090005072,
           0.033658541659347875,
           0.04223475241864514,
           0.050810963177942294,
           0.05938717393723956,
           0.06796338469653672
          ],
          [
           -0.3234412948608901,
           -0.3148650841015929,
           -0.3062888733422957,
           -0.2977126625829985,
           -0.2891364518237013,
           -0.2805602410644041,
           -0.27198403030510687,
           -0.26340781954580966,
           -0.25483160878651245,
           -0.24625539802721524,
           -0.23767918726791804,
           -0.22910297650862085,
           -0.22052676574932364,
           -0.21195055499002644,
           -0.20337434423072923,
           -0.19479813347143202,
           -0.1862219227121348,
           -0.1776457119528376,
           -0.1690695011935404,
           -0.16049329043424318,
           -0.15191707967494597,
           -0.14334086891564876,
           -0.13476465815635155,
           -0.12618844739705434,
           -0.11761223663775713,
           -0.10903602587845992,
           -0.10045981511916272,
           -0.0918836043598655,
           -0.0833073936005683,
           -0.07473118284127109,
           -0.06615497208197388,
           -0.05757876132267667,
           -0.04900255056337946,
           -0.04042633980408225,
           -0.03185012904478504,
           -0.023273918285487836,
           -0.014697707526190627,
           -0.0061214967668934165,
           0.0024547139924037927,
           0.011030924751700946,
           0.01960713551099821,
           0.028183346270295364,
           0.03675955702959263,
           0.045335767788889786,
           0.05391197854818705,
           0.062488189307484204,
           0.07106440006678147,
           0.07964061082607862,
           0.08821682158537589,
           0.09679303234467304
          ],
          [
           -0.2946116472127538,
           -0.2860354364534566,
           -0.2774592256941594,
           -0.26888301493486216,
           -0.26030680417556495,
           -0.25173059341626774,
           -0.24315438265697054,
           -0.23457817189767333,
           -0.22600196113837612,
           -0.2174257503790789,
           -0.2088495396197817,
           -0.20027332886048452,
           -0.1916971181011873,
           -0.1831209073418901,
           -0.1745446965825929,
           -0.16596848582329568,
           -0.15739227506399847,
           -0.14881606430470126,
           -0.14023985354540405,
           -0.13166364278610684,
           -0.12308743202680965,
           -0.11451122126751244,
           -0.10593501050821523,
           -0.09735879974891802,
           -0.08878258898962081,
           -0.0802063782303236,
           -0.07163016747102639,
           -0.06305395671172918,
           -0.054477745952431975,
           -0.045901535193134765,
           -0.037325324433837556,
           -0.028749113674540347,
           -0.020172902915243138,
           -0.011596692155945927,
           -0.003020481396648718,
           0.005555729362648491,
           0.014131940121945701,
           0.02270815088124291,
           0.03128436164054012,
           0.03986057239983727,
           0.048436783159134536,
           0.05701299391843169,
           0.06558920467772895,
           0.07416541543702611,
           0.08274162619632337,
           0.09131783695562053,
           0.09989404771491779,
           0.10847025847421495,
           0.11704646923351221,
           0.12562267999280938
          ],
          [
           -0.26578199956461745,
           -0.25720578880532025,
           -0.24862957804602306,
           -0.24005336728672586,
           -0.23147715652742865,
           -0.22290094576813144,
           -0.21432473500883423,
           -0.20574852424953702,
           -0.1971723134902398,
           -0.1885961027309426,
           -0.1800198919716454,
           -0.17144368121234818,
           -0.16286747045305097,
           -0.15429125969375376,
           -0.14571504893445655,
           -0.13713883817515934,
           -0.12856262741586216,
           -0.11998641665656495,
           -0.11141020589726774,
           -0.10283399513797054,
           -0.09425778437867333,
           -0.08568157361937612,
           -0.07710536286007891,
           -0.0685291521007817,
           -0.05995294134148448,
           -0.05137673058218727,
           -0.042800519822890064,
           -0.034224309063592855,
           -0.02564809830429565,
           -0.01707188754499844,
           -0.008495676785701229,
           0.00008053397359598052,
           0.00865674473289319,
           0.017232955492190397,
           0.025809166251487606,
           0.03438537701078482,
           0.04296158777008203,
           0.05153779852937924,
           0.06011400928867645,
           0.0686902200479736,
           0.07726643080727086,
           0.08584264156656801,
           0.09441885232586528,
           0.10299506308516243,
           0.1115712738444597,
           0.12014748460375685,
           0.1287236953630541,
           0.13729990612235127,
           0.14587611688164853,
           0.15445232764094569
          ],
          [
           -0.23695235191648115,
           -0.22837614115718394,
           -0.21979993039788673,
           -0.21122371963858952,
           -0.2026475088792923,
           -0.1940712981199951,
           -0.1854950873606979,
           -0.17691887660140068,
           -0.16834266584210347,
           -0.15976645508280626,
           -0.15119024432350905,
           -0.14261403356421187,
           -0.13403782280491466,
           -0.12546161204561745,
           -0.11688540128632023,
           -0.10830919052702302,
           -0.09973297976772583,
           -0.09115676900842862,
           -0.08258055824913141,
           -0.0740043474898342,
           -0.06542813673053699,
           -0.05685192597123979,
           -0.04827571521194258,
           -0.03969950445264537,
           -0.031123293693348156,
           -0.022547082934050947,
           -0.01397087217475374,
           -0.00539466141545653,
           0.003181549343840679,
           0.011757760103137888,
           0.0203339708624351,
           0.028910181621732308,
           0.037486392381029514,
           0.04606260314032672,
           0.05463881389962393,
           0.06321502465892115,
           0.07179123541821836,
           0.08036744617751557,
           0.08894365693681278,
           0.09751986769610993,
           0.1060960784554072,
           0.11467228921470435,
           0.12324849997400161,
           0.13182471073329877,
           0.14040092149259603,
           0.14897713225189319,
           0.15755334301119045,
           0.1661295537704876,
           0.17470576452978487,
           0.18328197528908202
          ],
          [
           -0.20812270426834484,
           -0.19954649350904763,
           -0.19097028274975042,
           -0.1823940719904532,
           -0.173817861231156,
           -0.1652416504718588,
           -0.15666543971256158,
           -0.14808922895326437,
           -0.13951301819396716,
           -0.13093680743466996,
           -0.12236059667537273,
           -0.11378438591607554,
           -0.10520817515677833,
           -0.09663196439748112,
           -0.08805575363818391,
           -0.0794795428788867,
           -0.0709033321195895,
           -0.062327121360292295,
           -0.053750910600995086,
           -0.04517469984169788,
           -0.03659848908240067,
           -0.02802227832310346,
           -0.01944606756380625,
           -0.01086985680450904,
           -0.0022936460452118316,
           0.006282564714085378,
           0.014858775473382588,
           0.023434986232679797,
           0.032011196991977006,
           0.040587407751274215,
           0.049163618510571425,
           0.057739829269868634,
           0.06631604002916584,
           0.07489225078846305,
           0.08346846154776026,
           0.09204467230705747,
           0.10062088306635468,
           0.10919709382565189,
           0.1177733045849491,
           0.12634951534424624,
           0.1349257261035435,
           0.14350193686284066,
           0.15207814762213792,
           0.16065435838143508,
           0.16923056914073234,
           0.1778067799000295,
           0.18638299065932676,
           0.1949592014186239,
           0.20353541217792118,
           0.21211162293721833
          ],
          [
           -0.1792930566202085,
           -0.1707168458609113,
           -0.16214063510161408,
           -0.15356442434231687,
           -0.14498821358301966,
           -0.13641200282372246,
           -0.12783579206442525,
           -0.11925958130512804,
           -0.11068337054583083,
           -0.10210715978653362,
           -0.09353094902723641,
           -0.08495473826793921,
           -0.076378527508642,
           -0.0678023167493448,
           -0.05922610599004759,
           -0.05064989523075038,
           -0.04207368447145318,
           -0.03349747371215597,
           -0.02492126295285876,
           -0.01634505219356155,
           -0.007768841434264342,
           0.0008073693250328671,
           0.009383580084330077,
           0.017959790843627286,
           0.026536001602924495,
           0.0351122123622217,
           0.04368842312151891,
           0.05226463388081612,
           0.06084084464011333,
           0.06941705539941054,
           0.07799326615870775,
           0.08656947691800496,
           0.09514568767730217,
           0.10372189843659937,
           0.11229810919589658,
           0.12087431995519379,
           0.129450530714491,
           0.1380267414737882,
           0.14660295223308542,
           0.15517916299238257,
           0.16375537375167984,
           0.172331584510977,
           0.18090779527027426,
           0.1894840060295714,
           0.19806021678886868,
           0.20663642754816583,
           0.2152126383074631,
           0.22378884906676025,
           0.2323650598260575,
           0.24094127058535467
          ],
          [
           -0.15046340897207217,
           -0.14188719821277496,
           -0.13331098745347775,
           -0.12473477669418054,
           -0.11615856593488333,
           -0.10758235517558612,
           -0.09900614441628891,
           -0.0904299336569917,
           -0.08185372289769449,
           -0.07327751213839728,
           -0.06470130137910007,
           -0.056125090619802885,
           -0.047548879860505676,
           -0.03897266910120847,
           -0.030396458341911257,
           -0.021820247582614048,
           -0.013244036823316853,
           -0.004667826064019644,
           0.0039083846952775655,
           0.012484595454574775,
           0.021060806213871984,
           0.029637016973169193,
           0.0382132277324664,
           0.04678943849176361,
           0.05536564925106082,
           0.06394186001035804,
           0.07251807076965525,
           0.08109428152895246,
           0.08967049228824966,
           0.09824670304754687,
           0.10682291380684408,
           0.11539912456614129,
           0.1239753353254385,
           0.1325515460847357,
           0.14112775684403292,
           0.14970396760333013,
           0.15828017836262734,
           0.16685638912192455,
           0.17543259988122176,
           0.1840088106405189,
           0.19258502139981618,
           0.20116123215911333,
           0.2097374429184106,
           0.21831365367770775,
           0.226889864437005,
           0.23546607519630217,
           0.24404228595559943,
           0.25261849671489656,
           0.2611947074741938,
           0.269770918233491
          ],
          [
           -0.12163376132393584,
           -0.11305755056463863,
           -0.10448133980534142,
           -0.09590512904604422,
           -0.087328918286747,
           -0.0787527075274498,
           -0.07017649676815259,
           -0.06160028600885538,
           -0.05302407524955817,
           -0.04444786449026096,
           -0.03587165373096375,
           -0.02729544297166656,
           -0.01871923221236935,
           -0.010143021453072141,
           -0.001566810693774931,
           0.007009400065522278,
           0.015585610824819473,
           0.024161821584116682,
           0.032738032343413895,
           0.041314243102711104,
           0.04989045386200831,
           0.05846666462130552,
           0.06704287538060273,
           0.07561908613989994,
           0.08419529689919715,
           0.09277150765849436,
           0.10134771841779157,
           0.10992392917708878,
           0.11850013993638599,
           0.12707635069568318,
           0.1356525614549804,
           0.1442287722142776,
           0.1528049829735748,
           0.16138119373287202,
           0.16995740449216923,
           0.17853361525146644,
           0.18710982601076365,
           0.19568603677006086,
           0.20426224752935807,
           0.21283845828865522,
           0.22141466904795248,
           0.22999087980724964,
           0.2385670905665469,
           0.24714330132584406,
           0.2557195120851413,
           0.2642957228444385,
           0.27287193360373574,
           0.2814481443630329,
           0.29002435512233016,
           0.2986005658816273
          ],
          [
           -0.09280411367579952,
           -0.08422790291650231,
           -0.0756516921572051,
           -0.0670754813979079,
           -0.058499270638610684,
           -0.049923059879313475,
           -0.041346849120016266,
           -0.03277063836071906,
           -0.024194427601421847,
           -0.015618216842124636,
           -0.007042006082827428,
           0.0015342046764697675,
           0.010110415435766977,
           0.018686626195064185,
           0.027262836954361394,
           0.0358390477136586,
           0.0444152584729558,
           0.05299146923225301,
           0.06156767999155022,
           0.07014389075084743,
           0.07872010151014464,
           0.08729631226944184,
           0.09587252302873905,
           0.10444873378803626,
           0.11302494454733347,
           0.12160115530663068,
           0.1301773660659279,
           0.1387535768252251,
           0.1473297875845223,
           0.15590599834381952,
           0.16448220910311673,
           0.17305841986241394,
           0.18163463062171115,
           0.19021084138100836,
           0.19878705214030556,
           0.20736326289960277,
           0.21593947365889998,
           0.2245156844181972,
           0.2330918951774944,
           0.24166810593679156,
           0.2502443166960888,
           0.258820527455386,
           0.26739673821468324,
           0.2759729489739804,
           0.28454915973327766,
           0.2931253704925748,
           0.3017015812518721,
           0.31027779201116923,
           0.3188540027704665,
           0.32743021352976365
          ],
          [
           -0.0639744660276632,
           -0.05539825526836598,
           -0.04682204450906877,
           -0.038245833749771564,
           -0.02966962299047436,
           -0.02109341223117715,
           -0.012517201471879938,
           -0.003940990712582729,
           0.00463522004671448,
           0.01321143080601169,
           0.021787641565308897,
           0.030363852324606092,
           0.038940063083903305,
           0.047516273843200514,
           0.05609248460249772,
           0.06466869536179493,
           0.07324490612109212,
           0.08182111688038933,
           0.09039732763968654,
           0.09897353839898375,
           0.10754974915828096,
           0.11612595991757817,
           0.12470217067687538,
           0.1332783814361726,
           0.1418545921954698,
           0.15043080295476702,
           0.15900701371406423,
           0.16758322447336144,
           0.17615943523265865,
           0.18473564599195585,
           0.19331185675125306,
           0.20188806751055027,
           0.21046427826984748,
           0.2190404890291447,
           0.2276166997884419,
           0.2361929105477391,
           0.24476912130703632,
           0.25334533206633353,
           0.26192154282563074,
           0.2704977535849279,
           0.27907396434422516,
           0.2876501751035223,
           0.2962263858628196,
           0.30480259662211673,
           0.313378807381414,
           0.32195501814071115,
           0.3305312289000084,
           0.33910743965930557,
           0.34768365041860283,
           0.3562598611779
          ],
          [
           -0.03514481837952687,
           -0.026568607620229657,
           -0.017992396860932448,
           -0.00941618610163524,
           -0.0008399753423380305,
           0.007736235416959178,
           0.01631244617625639,
           0.0248886569355536,
           0.033464867694850804,
           0.04204107845414801,
           0.05061728921344522,
           0.05919349997274242,
           0.06776971073203963,
           0.07634592149133684,
           0.08492213225063405,
           0.09349834300993126,
           0.10207455376922846,
           0.11065076452852567,
           0.11922697528782288,
           0.12780318604712007,
           0.13637939680641728,
           0.1449556075657145,
           0.1535318183250117,
           0.1621080290843089,
           0.17068423984360612,
           0.17926045060290333,
           0.18783666136220054,
           0.19641287212149774,
           0.20498908288079495,
           0.21356529364009216,
           0.22214150439938937,
           0.23071771515868658,
           0.2392939259179838,
           0.247870136677281,
           0.25644634743657824,
           0.26502255819587545,
           0.27359876895517266,
           0.28217497971446986,
           0.2907511904737671,
           0.2993274012330642,
           0.3079036119923615,
           0.31647982275165865,
           0.3250560335109559,
           0.33363224427025306,
           0.34220845502955033,
           0.3507846657888475,
           0.35936087654814475,
           0.3679370873074419,
           0.37651329806673917,
           0.3850895088260363
          ],
          [
           -0.006315170731390541,
           0.002261040027906668,
           0.010837250787203878,
           0.019413461546501087,
           0.027989672305798297,
           0.036565883065095506,
           0.045142093824392715,
           0.053718304583689924,
           0.06229451534298713,
           0.07087072610228434,
           0.07944693686158155,
           0.08802314762087875,
           0.09659935838017596,
           0.10517556913947317,
           0.11375177989877037,
           0.12232799065806758,
           0.13090420141736478,
           0.139480412176662,
           0.1480566229359592,
           0.1566328336952564,
           0.16520904445455362,
           0.17378525521385083,
           0.18236146597314803,
           0.19093767673244524,
           0.19951388749174245,
           0.20809009825103966,
           0.21666630901033687,
           0.22524251976963408,
           0.2338187305289313,
           0.2423949412882285,
           0.2509711520475257,
           0.2595473628068229,
           0.2681235735661201,
           0.2766997843254173,
           0.2852759950847145,
           0.2938522058440117,
           0.30242841660330894,
           0.31100462736260615,
           0.31958083812190335,
           0.3281570488812005,
           0.3367332596404978,
           0.3453094703997949,
           0.3538856811590922,
           0.36246189191838935,
           0.3710381026776866,
           0.37961431343698376,
           0.38819052419628103,
           0.3967667349555782,
           0.40534294571487545,
           0.4139191564741726
          ],
          [
           0.022514476916745785,
           0.031090687676042995,
           0.0396668984353402,
           0.04824310919463741,
           0.05681931995393462,
           0.06539553071323183,
           0.07397174147252904,
           0.08254795223182625,
           0.09112416299112346,
           0.09970037375042066,
           0.10827658450971787,
           0.11685279526901507,
           0.12542900602831228,
           0.1340052167876095,
           0.1425814275469067,
           0.1511576383062039,
           0.15973384906550112,
           0.16831005982479832,
           0.17688627058409553,
           0.18546248134339274,
           0.19403869210268995,
           0.20261490286198716,
           0.21119111362128437,
           0.21976732438058158,
           0.2283435351398788,
           0.236919745899176,
           0.2454959566584732,
           0.2540721674177704,
           0.2626483781770676,
           0.2712245889363648,
           0.279800799695662,
           0.2883770104549592,
           0.29695322121425644,
           0.30552943197355364,
           0.31410564273285085,
           0.32268185349214806,
           0.33125806425144527,
           0.3398342750107425,
           0.3484104857700397,
           0.35698669652933684,
           0.3655629072886341,
           0.37413911804793126,
           0.3827153288072285,
           0.3912915395665257,
           0.39986775032582295,
           0.4084439610851201,
           0.41702017184441736,
           0.4255963826037145,
           0.4341725933630118,
           0.44274880412230894
          ],
          [
           0.05134412456488211,
           0.05992033532417932,
           0.06849654608347654,
           0.07707275684277375,
           0.08564896760207096,
           0.09422517836136816,
           0.10280138912066537,
           0.11137759987996258,
           0.11995381063925979,
           0.128530021398557,
           0.1371062321578542,
           0.1456824429171514,
           0.15425865367644861,
           0.16283486443574582,
           0.17141107519504303,
           0.17998728595434024,
           0.18856349671363742,
           0.19713970747293463,
           0.20571591823223184,
           0.21429212899152905,
           0.22286833975082626,
           0.23144455051012347,
           0.24002076126942068,
           0.2485969720287179,
           0.2571731827880151,
           0.2657493935473123,
           0.2743256043066095,
           0.2829018150659067,
           0.29147802582520393,
           0.30005423658450114,
           0.30863044734379835,
           0.31720665810309556,
           0.32578286886239277,
           0.33435907962169,
           0.3429352903809872,
           0.3515115011402844,
           0.3600877118995816,
           0.3686639226588788,
           0.377240133418176,
           0.3858163441774732,
           0.39439255493677045,
           0.4029687656960676,
           0.41154497645536486,
           0.420121187214662,
           0.4286973979739593,
           0.43727360873325644,
           0.4458498194925537,
           0.45442603025185085,
           0.4630022410111481,
           0.4715784517704453
          ],
          [
           0.08017377221301844,
           0.08874998297231565,
           0.09732619373161286,
           0.10590240449091007,
           0.11447861525020728,
           0.12305482600950449,
           0.1316310367688017,
           0.1402072475280989,
           0.14878345828739611,
           0.15735966904669332,
           0.16593587980599053,
           0.17451209056528771,
           0.18308830132458492,
           0.19166451208388213,
           0.20024072284317934,
           0.20881693360247655,
           0.21739314436177376,
           0.22596935512107097,
           0.23454556588036818,
           0.2431217766396654,
           0.2516979873989626,
           0.2602741981582598,
           0.268850408917557,
           0.2774266196768542,
           0.28600283043615143,
           0.29457904119544864,
           0.30315525195474585,
           0.31173146271404306,
           0.32030767347334027,
           0.3288838842326375,
           0.3374600949919347,
           0.3460363057512319,
           0.3546125165105291,
           0.3631887272698263,
           0.3717649380291235,
           0.38034114878842074,
           0.38891735954771794,
           0.39749357030701515,
           0.40606978106631236,
           0.4146459918256095,
           0.4232222025849068,
           0.43179841334420394,
           0.4403746241035012,
           0.44895083486279835,
           0.4575270456220956,
           0.46610325638139277,
           0.47467946714069004,
           0.4832556778999872,
           0.49183188865928446,
           0.5004080994185816
          ],
          [
           0.10900341986115476,
           0.11757963062045197,
           0.1261558413797492,
           0.1347320521390464,
           0.1433082628983436,
           0.15188447365764082,
           0.16046068441693803,
           0.16903689517623524,
           0.17761310593553245,
           0.18618931669482966,
           0.19476552745412687,
           0.20334173821342405,
           0.21191794897272126,
           0.22049415973201847,
           0.22907037049131568,
           0.2376465812506129,
           0.2462227920099101,
           0.2547990027692073,
           0.2633752135285045,
           0.2719514242878017,
           0.28052763504709893,
           0.28910384580639614,
           0.29768005656569335,
           0.30625626732499056,
           0.31483247808428777,
           0.323408688843585,
           0.3319848996028822,
           0.3405611103621794,
           0.3491373211214766,
           0.3577135318807738,
           0.366289742640071,
           0.37486595339936823,
           0.38344216415866544,
           0.39201837491796265,
           0.40059458567725986,
           0.40917079643655707,
           0.4177470071958543,
           0.4263232179551515,
           0.4348994287144487,
           0.44347563947374585,
           0.4520518502330431,
           0.46062806099234027,
           0.46920427175163754,
           0.4777804825109347,
           0.48635669327023195,
           0.4949329040295291,
           0.5035091147888263,
           0.5120853255481235,
           0.5206615363074207,
           0.5292377470667179
          ],
          [
           0.13783306750929109,
           0.1464092782685883,
           0.1549854890278855,
           0.1635616997871827,
           0.17213791054647992,
           0.18071412130577713,
           0.18929033206507434,
           0.19786654282437155,
           0.20644275358366876,
           0.21501896434296597,
           0.22359517510226318,
           0.2321713858615604,
           0.2407475966208576,
           0.2493238073801548,
           0.257900018139452,
           0.2664762288987492,
           0.27505243965804643,
           0.28362865041734364,
           0.29220486117664085,
           0.30078107193593806,
           0.30935728269523527,
           0.3179334934545325,
           0.3265097042138297,
           0.3350859149731269,
           0.3436621257324241,
           0.3522383364917213,
           0.3608145472510185,
           0.36939075801031573,
           0.37796696876961294,
           0.38654317952891015,
           0.39511939028820736,
           0.40369560104750457,
           0.4122718118068018,
           0.420848022566099,
           0.4294242333253962,
           0.4380004440846934,
           0.4465766548439906,
           0.4551528656032878,
           0.46372907636258504,
           0.4723052871218822,
           0.48088149788117945,
           0.4894577086404766,
           0.4980339193997739,
           0.506610130159071,
           0.5151863409183682,
           0.5237625516776654,
           0.5323387624369627,
           0.5409149731962598,
           0.5494911839555571,
           0.5580673947148542
          ],
          [
           0.16666271515742742,
           0.17523892591672463,
           0.18381513667602184,
           0.19239134743531905,
           0.20096755819461626,
           0.20954376895391347,
           0.21811997971321068,
           0.22669619047250789,
           0.2352724012318051,
           0.2438486119911023,
           0.2524248227503995,
           0.2610010335096967,
           0.26957724426899393,
           0.27815345502829114,
           0.28672966578758835,
           0.29530587654688556,
           0.3038820873061827,
           0.3124582980654799,
           0.32103450882477713,
           0.32961071958407434,
           0.33818693034337155,
           0.34676314110266876,
           0.35533935186196597,
           0.3639155626212632,
           0.3724917733805604,
           0.3810679841398576,
           0.3896441948991548,
           0.398220405658452,
           0.4067966164177492,
           0.41537282717704643,
           0.42394903793634364,
           0.43252524869564085,
           0.44110145945493806,
           0.44967767021423527,
           0.4582538809735325,
           0.4668300917328297,
           0.4754063024921269,
           0.4839825132514241,
           0.4925587240107213,
           0.5011349347700185,
           0.5097111455293157,
           0.5182873562886129,
           0.5268635670479102,
           0.5354397778072073,
           0.5440159885665046,
           0.5525921993258017,
           0.561168410085099,
           0.5697446208443961,
           0.5783208316036934,
           0.5868970423629906
          ],
          [
           0.19549236280556373,
           0.20406857356486094,
           0.21264478432415815,
           0.22122099508345536,
           0.22979720584275257,
           0.23837341660204978,
           0.24694962736134698,
           0.2555258381206442,
           0.26410204887994143,
           0.27267825963923864,
           0.28125447039853585,
           0.289830681157833,
           0.2984068919171302,
           0.3069831026764274,
           0.31555931343572463,
           0.32413552419502184,
           0.33271173495431905,
           0.34128794571361626,
           0.34986415647291347,
           0.3584403672322107,
           0.3670165779915079,
           0.3755927887508051,
           0.3841689995101023,
           0.3927452102693995,
           0.4013214210286967,
           0.40989763178799393,
           0.41847384254729114,
           0.42705005330658835,
           0.43562626406588556,
           0.44420247482518277,
           0.45277868558448,
           0.4613548963437772,
           0.4699311071030744,
           0.4785073178623716,
           0.4870835286216688,
           0.495659739380966,
           0.5042359501402632,
           0.5128121608995605,
           0.5213883716588577,
           0.5299645824181548,
           0.5385407931774521,
           0.5471170039367492,
           0.5556932146960465,
           0.5642694254553436,
           0.5728456362146409,
           0.5814218469739381,
           0.5899980577332353,
           0.5985742684925325,
           0.6071504792518297,
           0.6157266900111269
          ],
          [
           0.22432201045370007,
           0.23289822121299728,
           0.24147443197229448,
           0.2500506427315917,
           0.25862685349088893,
           0.26720306425018614,
           0.27577927500948335,
           0.28435548576878056,
           0.29293169652807777,
           0.301507907287375,
           0.3100841180466722,
           0.31866032880596934,
           0.32723653956526655,
           0.33581275032456376,
           0.34438896108386097,
           0.3529651718431582,
           0.3615413826024554,
           0.3701175933617526,
           0.3786938041210498,
           0.387270014880347,
           0.3958462256396442,
           0.40442243639894143,
           0.41299864715823864,
           0.42157485791753585,
           0.43015106867683306,
           0.43872727943613027,
           0.4473034901954275,
           0.4558797009547247,
           0.4644559117140219,
           0.4730321224733191,
           0.4816083332326163,
           0.4901845439919135,
           0.49876075475121073,
           0.507336965510508,
           0.5159131762698052,
           0.5244893870291024,
           0.5330655977883996,
           0.5416418085476968,
           0.550218019306994,
           0.5587942300662911,
           0.5673704408255884,
           0.5759466515848856,
           0.5845228623441828,
           0.59309907310348,
           0.6016752838627772,
           0.6102514946220744,
           0.6188277053813717,
           0.6274039161406688,
           0.6359801268999661,
           0.6445563376592632
          ],
          [
           0.2531516581018364,
           0.2617278688611336,
           0.2703040796204308,
           0.278880290379728,
           0.2874565011390252,
           0.2960327118983224,
           0.30460892265761963,
           0.31318513341691684,
           0.32176134417621405,
           0.33033755493551126,
           0.33891376569480847,
           0.3474899764541057,
           0.3560661872134029,
           0.3646423979727001,
           0.3732186087319973,
           0.3817948194912945,
           0.3903710302505917,
           0.39894724100988893,
           0.40752345176918614,
           0.41609966252848335,
           0.42467587328778056,
           0.43325208404707777,
           0.441828294806375,
           0.4504045055656722,
           0.4589807163249694,
           0.4675569270842666,
           0.4761331378435638,
           0.484709348602861,
           0.49328555936215823,
           0.5018617701214554,
           0.5104379808807527,
           0.5190141916400498,
           0.5275904023993471,
           0.5361666131586442,
           0.5447428239179415,
           0.5533190346772386,
           0.5618952454365359,
           0.5704714561958331,
           0.5790476669551303,
           0.5876238777144275,
           0.5962000884737247,
           0.6047762992330219,
           0.6133525099923192,
           0.6219287207516163,
           0.6305049315109136,
           0.6390811422702107,
           0.647657353029508,
           0.6562335637888052,
           0.6648097745481024,
           0.6733859853073996
          ],
          [
           0.2819813057499727,
           0.2905575165092699,
           0.29913372726856713,
           0.30770993802786434,
           0.31628614878716155,
           0.32486235954645876,
           0.33343857030575597,
           0.3420147810650532,
           0.3505909918243504,
           0.3591672025836476,
           0.3677434133429448,
           0.376319624102242,
           0.3848958348615392,
           0.39347204562083643,
           0.40204825638013364,
           0.41062446713943085,
           0.41920067789872806,
           0.42777688865802527,
           0.4363530994173225,
           0.4449293101766197,
           0.4535055209359169,
           0.4620817316952141,
           0.4706579424545113,
           0.4792341532138085,
           0.48781036397310573,
           0.49638657473240294,
           0.5049627854917002,
           0.5135389962509973,
           0.5221152070102946,
           0.5306914177695917,
           0.539267628528889,
           0.5478438392881861,
           0.5564200500474834,
           0.5649962608067806,
           0.5735724715660778,
           0.582148682325375,
           0.5907248930846722,
           0.5993011038439694,
           0.6078773146032667,
           0.6164535253625638,
           0.6250297361218611,
           0.6336059468811582,
           0.6421821576404555,
           0.6507583683997527,
           0.6593345791590499,
           0.6679107899183471,
           0.6764870006776443,
           0.6850632114369415,
           0.6936394221962388,
           0.7022156329555359
          ],
          [
           0.31081095339810905,
           0.31938716415740626,
           0.32796337491670347,
           0.3365395856760007,
           0.3451157964352979,
           0.3536920071945951,
           0.3622682179538923,
           0.3708444287131895,
           0.3794206394724867,
           0.38799685023178393,
           0.39657306099108114,
           0.40514927175037835,
           0.41372548250967556,
           0.42230169326897277,
           0.43087790402827,
           0.4394541147875672,
           0.4480303255468644,
           0.4566065363061616,
           0.4651827470654588,
           0.473758957824756,
           0.48233516858405323,
           0.49091137934335044,
           0.49948759010264765,
           0.5080638008619448,
           0.5166400116212421,
           0.5252162223805392,
           0.5337924331398365,
           0.5423686438991336,
           0.5509448546584309,
           0.5595210654177281,
           0.5680972761770253,
           0.5766734869363225,
           0.5852496976956197,
           0.5938259084549169,
           0.6024021192142142,
           0.6109783299735113,
           0.6195545407328086,
           0.6281307514921057,
           0.636706962251403,
           0.6452831730107002,
           0.6538593837699974,
           0.6624355945292946,
           0.6710118052885918,
           0.679588016047889,
           0.6881642268071863,
           0.6967404375664834,
           0.7053166483257807,
           0.7138928590850778,
           0.7224690698443751,
           0.7310452806036722
          ],
          [
           0.3396406010462454,
           0.3482168118055426,
           0.3567930225648398,
           0.365369233324137,
           0.3739454440834342,
           0.38252165484273143,
           0.39109786560202864,
           0.39967407636132585,
           0.40825028712062306,
           0.41682649787992027,
           0.4254027086392175,
           0.4339789193985147,
           0.4425551301578119,
           0.4511313409171091,
           0.4597075516764063,
           0.4682837624357035,
           0.4768599731950007,
           0.4854361839542979,
           0.4940123947135951,
           0.5025886054728923,
           0.5111648162321896,
           0.5197410269914867,
           0.528317237750784,
           0.5368934485100811,
           0.5454696592693784,
           0.5540458700286756,
           0.5626220807879728,
           0.57119829154727,
           0.5797745023065672,
           0.5883507130658644,
           0.5969269238251617,
           0.6055031345844588,
           0.6140793453437561,
           0.6226555561030532,
           0.6312317668623505,
           0.6398079776216476,
           0.6483841883809449,
           0.6569603991402421,
           0.6655366098995393,
           0.6741128206588365,
           0.6826890314181338,
           0.6912652421774309,
           0.6998414529367282,
           0.7084176636960253,
           0.7169938744553226,
           0.7255700852146197,
           0.734146295973917,
           0.7427225067332142,
           0.7512987174925114,
           0.7598749282518086
          ],
          [
           0.3684702486943817,
           0.37704645945367893,
           0.38562267021297614,
           0.39419888097227335,
           0.40277509173157056,
           0.41135130249086777,
           0.419927513250165,
           0.4285037240094622,
           0.4370799347687594,
           0.4456561455280566,
           0.4542323562873538,
           0.46280856704665096,
           0.4713847778059482,
           0.4799609885652454,
           0.4885371993245426,
           0.4971134100838398,
           0.5056896208431371,
           0.5142658316024342,
           0.5228420423617315,
           0.5314182531210286,
           0.5399944638803259,
           0.5485706746396231,
           0.5571468853989203,
           0.5657230961582175,
           0.5742993069175147,
           0.5828755176768119,
           0.5914517284361092,
           0.6000279391954063,
           0.6086041499547036,
           0.6171803607140007,
           0.625756571473298,
           0.6343327822325951,
           0.6429089929918924,
           0.6514852037511896,
           0.6600614145104868,
           0.668637625269784,
           0.6772138360290813,
           0.6857900467883784,
           0.6943662575476757,
           0.7029424683069728,
           0.7115186790662701,
           0.7200948898255672,
           0.7286711005848645,
           0.7372473113441617,
           0.7458235221034589,
           0.7543997328627561,
           0.7629759436220533,
           0.7715521543813505,
           0.7801283651406478,
           0.7887045758999449
          ],
          [
           0.397299896342518,
           0.4058761071018152,
           0.4144523178611124,
           0.4230285286204096,
           0.43160473937970684,
           0.44018095013900405,
           0.44875716089830125,
           0.45733337165759846,
           0.4659095824168957,
           0.4744857931761929,
           0.4830620039354901,
           0.4916382146947873,
           0.5002144254540846,
           0.5087906362133817,
           0.517366846972679,
           0.5259430577319761,
           0.5345192684912733,
           0.5430954792505706,
           0.5516716900098677,
           0.560247900769165,
           0.5688241115284621,
           0.5774003222877594,
           0.5859765330470565,
           0.5945527438063538,
           0.603128954565651,
           0.6117051653249482,
           0.6202813760842454,
           0.6288575868435426,
           0.6374337976028398,
           0.6460100083621371,
           0.6545862191214342,
           0.6631624298807315,
           0.6717386406400286,
           0.6803148513993259,
           0.6888910621586231,
           0.6974672729179203,
           0.7060434836772175,
           0.7146196944365147,
           0.7231959051958119,
           0.731772115955109,
           0.7403483267144063,
           0.7489245374737035,
           0.7575007482330007,
           0.7660769589922979,
           0.7746531697515951,
           0.7832293805108923,
           0.7918055912701896,
           0.8003818020294867,
           0.808958012788784,
           0.8175342235480811
          ],
          [
           0.42612954399065434,
           0.43470575474995155,
           0.44328196550924875,
           0.45185817626854596,
           0.4604343870278432,
           0.4690105977871404,
           0.4775868085464376,
           0.4861630193057348,
           0.494739230065032,
           0.5033154408243292,
           0.5118916515836265,
           0.5204678623429236,
           0.5290440731022209,
           0.5376202838615181,
           0.5461964946208153,
           0.5547727053801125,
           0.5633489161394096,
           0.5719251268987069,
           0.580501337658004,
           0.5890775484173013,
           0.5976537591765985,
           0.6062299699358957,
           0.6148061806951929,
           0.6233823914544901,
           0.6319586022137873,
           0.6405348129730846,
           0.6491110237323817,
           0.657687234491679,
           0.6662634452509761,
           0.6748396560102734,
           0.6834158667695706,
           0.6919920775288678,
           0.700568288288165,
           0.7091444990474622,
           0.7177207098067594,
           0.7262969205660567,
           0.7348731313253538,
           0.7434493420846511,
           0.7520255528439482,
           0.7606017636032454,
           0.7691779743625426,
           0.7777541851218398,
           0.7863303958811371,
           0.7949066066404342,
           0.8034828173997315,
           0.8120590281590286,
           0.8206352389183259,
           0.8292114496776231,
           0.8377876604369203,
           0.8463638711962175
          ],
          [
           0.45495919163879067,
           0.4635354023980879,
           0.4721116131573851,
           0.4806878239166823,
           0.4892640346759795,
           0.4978402454352767,
           0.506416456194574,
           0.5149926669538711,
           0.5235688777131684,
           0.5321450884724656,
           0.5407212992317628,
           0.54929750999106,
           0.5578737207503571,
           0.5664499315096544,
           0.5750261422689515,
           0.5836023530282488,
           0.592178563787546,
           0.6007547745468432,
           0.6093309853061404,
           0.6179071960654376,
           0.6264834068247348,
           0.6350596175840321,
           0.6436358283433292,
           0.6522120391026265,
           0.6607882498619236,
           0.6693644606212209,
           0.6779406713805181,
           0.6865168821398153,
           0.6950930928991125,
           0.7036693036584097,
           0.7122455144177069,
           0.7208217251770042,
           0.7293979359363013,
           0.7379741466955986,
           0.7465503574548957,
           0.755126568214193,
           0.7637027789734901,
           0.7722789897327874,
           0.7808552004920846,
           0.7894314112513817,
           0.798007622010679,
           0.8065838327699761,
           0.8151600435292734,
           0.8237362542885706,
           0.8323124650478678,
           0.840888675807165,
           0.8494648865664622,
           0.8580410973257594,
           0.8666173080850567,
           0.8751935188443538
          ],
          [
           0.483788839286927,
           0.4923650500462242,
           0.5009412608055214,
           0.5095174715648186,
           0.5180936823241158,
           0.526669893083413,
           0.5352461038427102,
           0.5438223146020075,
           0.5523985253613046,
           0.5609747361206019,
           0.569550946879899,
           0.5781271576391963,
           0.5867033683984935,
           0.5952795791577907,
           0.6038557899170879,
           0.6124320006763851,
           0.6210082114356823,
           0.6295844221949796,
           0.6381606329542767,
           0.646736843713574,
           0.6553130544728711,
           0.6638892652321684,
           0.6724654759914656,
           0.6810416867507628,
           0.68961789751006,
           0.6981941082693572,
           0.7067703190286544,
           0.7153465297879517,
           0.7239227405472488,
           0.7324989513065461,
           0.7410751620658432,
           0.7496513728251405,
           0.7582275835844376,
           0.7668037943437349,
           0.7753800051030321,
           0.7839562158623293,
           0.7925324266216265,
           0.8011086373809237,
           0.8096848481402209,
           0.8182610588995181,
           0.8268372696588153,
           0.8354134804181125,
           0.8439896911774097,
           0.8525659019367069,
           0.8611421126960042,
           0.8697183234553013,
           0.8782945342145986,
           0.8868707449738957,
           0.895446955733193,
           0.9040231664924901
          ],
          [
           0.5126184869350633,
           0.5211946976943606,
           0.5297709084536577,
           0.538347119212955,
           0.5469233299722521,
           0.5554995407315494,
           0.5640757514908465,
           0.5726519622501438,
           0.581228173009441,
           0.5898043837687382,
           0.5983805945280354,
           0.6069568052873326,
           0.6155330160466298,
           0.6241092268059271,
           0.6326854375652242,
           0.6412616483245215,
           0.6498378590838186,
           0.6584140698431159,
           0.666990280602413,
           0.6755664913617103,
           0.6841427021210075,
           0.6927189128803047,
           0.7012951236396019,
           0.7098713343988992,
           0.7184475451581963,
           0.7270237559174936,
           0.7355999666767907,
           0.744176177436088,
           0.7527523881953851,
           0.7613285989546824,
           0.7699048097139796,
           0.7784810204732768,
           0.787057231232574,
           0.7956334419918712,
           0.8042096527511684,
           0.8127858635104657,
           0.8213620742697628,
           0.8299382850290601,
           0.8385144957883572,
           0.8470907065476544,
           0.8556669173069517,
           0.8642431280662488,
           0.8728193388255461,
           0.8813955495848432,
           0.8899717603441405,
           0.8985479711034376,
           0.9071241818627349,
           0.9157003926220321,
           0.9242766033813293,
           0.9328528141406265
          ],
          [
           0.5414481345831996,
           0.5500243453424969,
           0.558600556101794,
           0.5671767668610913,
           0.5757529776203885,
           0.5843291883796857,
           0.5929053991389829,
           0.6014816098982801,
           0.6100578206575773,
           0.6186340314168746,
           0.6272102421761717,
           0.635786452935469,
           0.6443626636947661,
           0.6529388744540634,
           0.6615150852133606,
           0.6700912959726578,
           0.678667506731955,
           0.6872437174912522,
           0.6958199282505494,
           0.7043961390098467,
           0.7129723497691438,
           0.7215485605284411,
           0.7301247712877382,
           0.7387009820470355,
           0.7472771928063326,
           0.7558534035656299,
           0.7644296143249271,
           0.7730058250842243,
           0.7815820358435215,
           0.7901582466028187,
           0.7987344573621159,
           0.8073106681214132,
           0.8158868788807103,
           0.8244630896400076,
           0.8330393003993047,
           0.841615511158602,
           0.8501917219178992,
           0.8587679326771964,
           0.8673441434364936,
           0.8759203541957907,
           0.884496564955088,
           0.8930727757143851,
           0.9016489864736824,
           0.9102251972329796,
           0.9188014079922768,
           0.927377618751574,
           0.9359538295108712,
           0.9445300402701684,
           0.9531062510294657,
           0.9616824617887628
          ],
          [
           0.570277782231336,
           0.5788539929906332,
           0.5874302037499304,
           0.5960064145092276,
           0.6045826252685248,
           0.6131588360278221,
           0.6217350467871192,
           0.6303112575464165,
           0.6388874683057136,
           0.6474636790650109,
           0.656039889824308,
           0.6646161005836053,
           0.6731923113429025,
           0.6817685221021997,
           0.6903447328614969,
           0.6989209436207942,
           0.7074971543800913,
           0.7160733651393885,
           0.7246495758986857,
           0.7332257866579829,
           0.7418019974172801,
           0.7503782081765773,
           0.7589544189358746,
           0.7675306296951717,
           0.776106840454469,
           0.7846830512137661,
           0.7932592619730634,
           0.8018354727323606,
           0.8104116834916578,
           0.818987894250955,
           0.8275641050102522,
           0.8361403157695494,
           0.8447165265288467,
           0.8532927372881438,
           0.8618689480474411,
           0.8704451588067382,
           0.8790213695660355,
           0.8875975803253326,
           0.8961737910846299,
           0.9047500018439271,
           0.9133262126032243,
           0.9219024233625215,
           0.9304786341218187,
           0.9390548448811159,
           0.9476310556404132,
           0.9562072663997103,
           0.9647834771590076,
           0.9733596879183047,
           0.981935898677602,
           0.9905121094368992
          ],
          [
           0.5991074298794723,
           0.6076836406387696,
           0.6162598513980667,
           0.624836062157364,
           0.6334122729166611,
           0.6419884836759584,
           0.6505646944352556,
           0.6591409051945528,
           0.66771711595385,
           0.6762933267131472,
           0.6848695374724444,
           0.6934457482317415,
           0.7020219589910388,
           0.710598169750336,
           0.7191743805096332,
           0.7277505912689304,
           0.7363268020282276,
           0.7449030127875248,
           0.7534792235468221,
           0.7620554343061192,
           0.7706316450654165,
           0.7792078558247136,
           0.7877840665840109,
           0.796360277343308,
           0.8049364881026053,
           0.8135126988619025,
           0.8220889096211997,
           0.8306651203804969,
           0.8392413311397942,
           0.8478175418990913,
           0.8563937526583886,
           0.8649699634176857,
           0.873546174176983,
           0.8821223849362801,
           0.8906985956955774,
           0.8992748064548746,
           0.9078510172141718,
           0.916427227973469,
           0.9250034387327662,
           0.9335796494920634,
           0.9421558602513607,
           0.9507320710106578,
           0.9593082817699551,
           0.9678844925292522,
           0.9764607032885495,
           0.9850369140478467,
           0.9936131248071439,
           1.002189335566441,
           1.0107655463257383,
           1.0193417570850354
          ],
          [
           0.6279370775276086,
           0.6365132882869059,
           0.645089499046203,
           0.6536657098055003,
           0.6622419205647975,
           0.6708181313240947,
           0.6793943420833919,
           0.6879705528426892,
           0.6965467636019863,
           0.7051229743612836,
           0.7136991851205807,
           0.7222753958798779,
           0.7308516066391751,
           0.7394278173984723,
           0.7480040281577696,
           0.7565802389170667,
           0.765156449676364,
           0.7737326604356611,
           0.7823088711949584,
           0.7908850819542556,
           0.7994612927135528,
           0.80803750347285,
           0.8166137142321472,
           0.8251899249914444,
           0.8337661357507417,
           0.8423423465100388,
           0.8509185572693361,
           0.8594947680286332,
           0.8680709787879305,
           0.8766471895472276,
           0.8852234003065249,
           0.8937996110658221,
           0.9023758218251193,
           0.9109520325844165,
           0.9195282433437137,
           0.9281044541030109,
           0.9366806648623082,
           0.9452568756216053,
           0.9538330863809026,
           0.9624092971401997,
           0.970985507899497,
           0.9795617186587942,
           0.9881379294180914,
           0.9967141401773886,
           1.0052903509366857,
           1.013866561695983,
           1.0224427724552803,
           1.0310189832145773,
           1.0395951939738746,
           1.0481714047331718
          ]
         ]
        }
       ],
       "layout": {
        "height": 600,
        "legend": {
         "tracegroupgap": 0
        },
        "margin": {
         "t": 60
        },
        "scene": {
         "camera": {
          "eye": {
           "x": 2,
           "y": 0.8,
           "z": 0.5
          }
         },
         "domain": {
          "x": [
           0,
           1
          ],
          "y": [
           0,
           1
          ]
         },
         "xaxis": {
          "title": {
           "text": "x"
          }
         },
         "yaxis": {
          "title": {
           "text": "y"
          }
         },
         "zaxis": {
          "title": {
           "text": "z"
          }
         }
        },
        "showlegend": true,
        "template": {
         "data": {
          "bar": [
           {
            "error_x": {
             "color": "#f2f5fa"
            },
            "error_y": {
             "color": "#f2f5fa"
            },
            "marker": {
             "line": {
              "color": "rgb(17,17,17)",
              "width": 0.5
             },
             "pattern": {
              "fillmode": "overlay",
              "size": 10,
              "solidity": 0.2
             }
            },
            "type": "bar"
           }
          ],
          "barpolar": [
           {
            "marker": {
             "line": {
              "color": "rgb(17,17,17)",
              "width": 0.5
             },
             "pattern": {
              "fillmode": "overlay",
              "size": 10,
              "solidity": 0.2
             }
            },
            "type": "barpolar"
           }
          ],
          "carpet": [
           {
            "aaxis": {
             "endlinecolor": "#A2B1C6",
             "gridcolor": "#506784",
             "linecolor": "#506784",
             "minorgridcolor": "#506784",
             "startlinecolor": "#A2B1C6"
            },
            "baxis": {
             "endlinecolor": "#A2B1C6",
             "gridcolor": "#506784",
             "linecolor": "#506784",
             "minorgridcolor": "#506784",
             "startlinecolor": "#A2B1C6"
            },
            "type": "carpet"
           }
          ],
          "choropleth": [
           {
            "colorbar": {
             "outlinewidth": 0,
             "ticks": ""
            },
            "type": "choropleth"
           }
          ],
          "contour": [
           {
            "colorbar": {
             "outlinewidth": 0,
             "ticks": ""
            },
            "colorscale": [
             [
              0,
              "#0d0887"
             ],
             [
              0.1111111111111111,
              "#46039f"
             ],
             [
              0.2222222222222222,
              "#7201a8"
             ],
             [
              0.3333333333333333,
              "#9c179e"
             ],
             [
              0.4444444444444444,
              "#bd3786"
             ],
             [
              0.5555555555555556,
              "#d8576b"
             ],
             [
              0.6666666666666666,
              "#ed7953"
             ],
             [
              0.7777777777777778,
              "#fb9f3a"
             ],
             [
              0.8888888888888888,
              "#fdca26"
             ],
             [
              1,
              "#f0f921"
             ]
            ],
            "type": "contour"
           }
          ],
          "contourcarpet": [
           {
            "colorbar": {
             "outlinewidth": 0,
             "ticks": ""
            },
            "type": "contourcarpet"
           }
          ],
          "heatmap": [
           {
            "colorbar": {
             "outlinewidth": 0,
             "ticks": ""
            },
            "colorscale": [
             [
              0,
              "#0d0887"
             ],
             [
              0.1111111111111111,
              "#46039f"
             ],
             [
              0.2222222222222222,
              "#7201a8"
             ],
             [
              0.3333333333333333,
              "#9c179e"
             ],
             [
              0.4444444444444444,
              "#bd3786"
             ],
             [
              0.5555555555555556,
              "#d8576b"
             ],
             [
              0.6666666666666666,
              "#ed7953"
             ],
             [
              0.7777777777777778,
              "#fb9f3a"
             ],
             [
              0.8888888888888888,
              "#fdca26"
             ],
             [
              1,
              "#f0f921"
             ]
            ],
            "type": "heatmap"
           }
          ],
          "heatmapgl": [
           {
            "colorbar": {
             "outlinewidth": 0,
             "ticks": ""
            },
            "colorscale": [
             [
              0,
              "#0d0887"
             ],
             [
              0.1111111111111111,
              "#46039f"
             ],
             [
              0.2222222222222222,
              "#7201a8"
             ],
             [
              0.3333333333333333,
              "#9c179e"
             ],
             [
              0.4444444444444444,
              "#bd3786"
             ],
             [
              0.5555555555555556,
              "#d8576b"
             ],
             [
              0.6666666666666666,
              "#ed7953"
             ],
             [
              0.7777777777777778,
              "#fb9f3a"
             ],
             [
              0.8888888888888888,
              "#fdca26"
             ],
             [
              1,
              "#f0f921"
             ]
            ],
            "type": "heatmapgl"
           }
          ],
          "histogram": [
           {
            "marker": {
             "pattern": {
              "fillmode": "overlay",
              "size": 10,
              "solidity": 0.2
             }
            },
            "type": "histogram"
           }
          ],
          "histogram2d": [
           {
            "colorbar": {
             "outlinewidth": 0,
             "ticks": ""
            },
            "colorscale": [
             [
              0,
              "#0d0887"
             ],
             [
              0.1111111111111111,
              "#46039f"
             ],
             [
              0.2222222222222222,
              "#7201a8"
             ],
             [
              0.3333333333333333,
              "#9c179e"
             ],
             [
              0.4444444444444444,
              "#bd3786"
             ],
             [
              0.5555555555555556,
              "#d8576b"
             ],
             [
              0.6666666666666666,
              "#ed7953"
             ],
             [
              0.7777777777777778,
              "#fb9f3a"
             ],
             [
              0.8888888888888888,
              "#fdca26"
             ],
             [
              1,
              "#f0f921"
             ]
            ],
            "type": "histogram2d"
           }
          ],
          "histogram2dcontour": [
           {
            "colorbar": {
             "outlinewidth": 0,
             "ticks": ""
            },
            "colorscale": [
             [
              0,
              "#0d0887"
             ],
             [
              0.1111111111111111,
              "#46039f"
             ],
             [
              0.2222222222222222,
              "#7201a8"
             ],
             [
              0.3333333333333333,
              "#9c179e"
             ],
             [
              0.4444444444444444,
              "#bd3786"
             ],
             [
              0.5555555555555556,
              "#d8576b"
             ],
             [
              0.6666666666666666,
              "#ed7953"
             ],
             [
              0.7777777777777778,
              "#fb9f3a"
             ],
             [
              0.8888888888888888,
              "#fdca26"
             ],
             [
              1,
              "#f0f921"
             ]
            ],
            "type": "histogram2dcontour"
           }
          ],
          "mesh3d": [
           {
            "colorbar": {
             "outlinewidth": 0,
             "ticks": ""
            },
            "type": "mesh3d"
           }
          ],
          "parcoords": [
           {
            "line": {
             "colorbar": {
              "outlinewidth": 0,
              "ticks": ""
             }
            },
            "type": "parcoords"
           }
          ],
          "pie": [
           {
            "automargin": true,
            "type": "pie"
           }
          ],
          "scatter": [
           {
            "marker": {
             "line": {
              "color": "#283442"
             }
            },
            "type": "scatter"
           }
          ],
          "scatter3d": [
           {
            "line": {
             "colorbar": {
              "outlinewidth": 0,
              "ticks": ""
             }
            },
            "marker": {
             "colorbar": {
              "outlinewidth": 0,
              "ticks": ""
             }
            },
            "type": "scatter3d"
           }
          ],
          "scattercarpet": [
           {
            "marker": {
             "colorbar": {
              "outlinewidth": 0,
              "ticks": ""
             }
            },
            "type": "scattercarpet"
           }
          ],
          "scattergeo": [
           {
            "marker": {
             "colorbar": {
              "outlinewidth": 0,
              "ticks": ""
             }
            },
            "type": "scattergeo"
           }
          ],
          "scattergl": [
           {
            "marker": {
             "line": {
              "color": "#283442"
             }
            },
            "type": "scattergl"
           }
          ],
          "scattermapbox": [
           {
            "marker": {
             "colorbar": {
              "outlinewidth": 0,
              "ticks": ""
             }
            },
            "type": "scattermapbox"
           }
          ],
          "scatterpolar": [
           {
            "marker": {
             "colorbar": {
              "outlinewidth": 0,
              "ticks": ""
             }
            },
            "type": "scatterpolar"
           }
          ],
          "scatterpolargl": [
           {
            "marker": {
             "colorbar": {
              "outlinewidth": 0,
              "ticks": ""
             }
            },
            "type": "scatterpolargl"
           }
          ],
          "scatterternary": [
           {
            "marker": {
             "colorbar": {
              "outlinewidth": 0,
              "ticks": ""
             }
            },
            "type": "scatterternary"
           }
          ],
          "surface": [
           {
            "colorbar": {
             "outlinewidth": 0,
             "ticks": ""
            },
            "colorscale": [
             [
              0,
              "#0d0887"
             ],
             [
              0.1111111111111111,
              "#46039f"
             ],
             [
              0.2222222222222222,
              "#7201a8"
             ],
             [
              0.3333333333333333,
              "#9c179e"
             ],
             [
              0.4444444444444444,
              "#bd3786"
             ],
             [
              0.5555555555555556,
              "#d8576b"
             ],
             [
              0.6666666666666666,
              "#ed7953"
             ],
             [
              0.7777777777777778,
              "#fb9f3a"
             ],
             [
              0.8888888888888888,
              "#fdca26"
             ],
             [
              1,
              "#f0f921"
             ]
            ],
            "type": "surface"
           }
          ],
          "table": [
           {
            "cells": {
             "fill": {
              "color": "#506784"
             },
             "line": {
              "color": "rgb(17,17,17)"
             }
            },
            "header": {
             "fill": {
              "color": "#2a3f5f"
             },
             "line": {
              "color": "rgb(17,17,17)"
             }
            },
            "type": "table"
           }
          ]
         },
         "layout": {
          "annotationdefaults": {
           "arrowcolor": "#f2f5fa",
           "arrowhead": 0,
           "arrowwidth": 1
          },
          "autotypenumbers": "strict",
          "coloraxis": {
           "colorbar": {
            "outlinewidth": 0,
            "ticks": ""
           }
          },
          "colorscale": {
           "diverging": [
            [
             0,
             "#8e0152"
            ],
            [
             0.1,
             "#c51b7d"
            ],
            [
             0.2,
             "#de77ae"
            ],
            [
             0.3,
             "#f1b6da"
            ],
            [
             0.4,
             "#fde0ef"
            ],
            [
             0.5,
             "#f7f7f7"
            ],
            [
             0.6,
             "#e6f5d0"
            ],
            [
             0.7,
             "#b8e186"
            ],
            [
             0.8,
             "#7fbc41"
            ],
            [
             0.9,
             "#4d9221"
            ],
            [
             1,
             "#276419"
            ]
           ],
           "sequential": [
            [
             0,
             "#0d0887"
            ],
            [
             0.1111111111111111,
             "#46039f"
            ],
            [
             0.2222222222222222,
             "#7201a8"
            ],
            [
             0.3333333333333333,
             "#9c179e"
            ],
            [
             0.4444444444444444,
             "#bd3786"
            ],
            [
             0.5555555555555556,
             "#d8576b"
            ],
            [
             0.6666666666666666,
             "#ed7953"
            ],
            [
             0.7777777777777778,
             "#fb9f3a"
            ],
            [
             0.8888888888888888,
             "#fdca26"
            ],
            [
             1,
             "#f0f921"
            ]
           ],
           "sequentialminus": [
            [
             0,
             "#0d0887"
            ],
            [
             0.1111111111111111,
             "#46039f"
            ],
            [
             0.2222222222222222,
             "#7201a8"
            ],
            [
             0.3333333333333333,
             "#9c179e"
            ],
            [
             0.4444444444444444,
             "#bd3786"
            ],
            [
             0.5555555555555556,
             "#d8576b"
            ],
            [
             0.6666666666666666,
             "#ed7953"
            ],
            [
             0.7777777777777778,
             "#fb9f3a"
            ],
            [
             0.8888888888888888,
             "#fdca26"
            ],
            [
             1,
             "#f0f921"
            ]
           ]
          },
          "colorway": [
           "#636efa",
           "#EF553B",
           "#00cc96",
           "#ab63fa",
           "#FFA15A",
           "#19d3f3",
           "#FF6692",
           "#B6E880",
           "#FF97FF",
           "#FECB52"
          ],
          "font": {
           "color": "#f2f5fa"
          },
          "geo": {
           "bgcolor": "rgb(17,17,17)",
           "lakecolor": "rgb(17,17,17)",
           "landcolor": "rgb(17,17,17)",
           "showlakes": true,
           "showland": true,
           "subunitcolor": "#506784"
          },
          "hoverlabel": {
           "align": "left"
          },
          "hovermode": "closest",
          "mapbox": {
           "style": "dark"
          },
          "paper_bgcolor": "rgb(17,17,17)",
          "plot_bgcolor": "rgb(17,17,17)",
          "polar": {
           "angularaxis": {
            "gridcolor": "#506784",
            "linecolor": "#506784",
            "ticks": ""
           },
           "bgcolor": "rgb(17,17,17)",
           "radialaxis": {
            "gridcolor": "#506784",
            "linecolor": "#506784",
            "ticks": ""
           }
          },
          "scene": {
           "xaxis": {
            "backgroundcolor": "rgb(17,17,17)",
            "gridcolor": "#506784",
            "gridwidth": 2,
            "linecolor": "#506784",
            "showbackground": true,
            "ticks": "",
            "zerolinecolor": "#C8D4E3"
           },
           "yaxis": {
            "backgroundcolor": "rgb(17,17,17)",
            "gridcolor": "#506784",
            "gridwidth": 2,
            "linecolor": "#506784",
            "showbackground": true,
            "ticks": "",
            "zerolinecolor": "#C8D4E3"
           },
           "zaxis": {
            "backgroundcolor": "rgb(17,17,17)",
            "gridcolor": "#506784",
            "gridwidth": 2,
            "linecolor": "#506784",
            "showbackground": true,
            "ticks": "",
            "zerolinecolor": "#C8D4E3"
           }
          },
          "shapedefaults": {
           "line": {
            "color": "#f2f5fa"
           }
          },
          "sliderdefaults": {
           "bgcolor": "#C8D4E3",
           "bordercolor": "rgb(17,17,17)",
           "borderwidth": 1,
           "tickwidth": 0
          },
          "ternary": {
           "aaxis": {
            "gridcolor": "#506784",
            "linecolor": "#506784",
            "ticks": ""
           },
           "baxis": {
            "gridcolor": "#506784",
            "linecolor": "#506784",
            "ticks": ""
           },
           "bgcolor": "rgb(17,17,17)",
           "caxis": {
            "gridcolor": "#506784",
            "linecolor": "#506784",
            "ticks": ""
           }
          },
          "title": {
           "x": 0.05
          },
          "updatemenudefaults": {
           "bgcolor": "#506784",
           "borderwidth": 0
          },
          "xaxis": {
           "automargin": true,
           "gridcolor": "#283442",
           "linecolor": "#506784",
           "ticks": "",
           "title": {
            "standoff": 15
           },
           "zerolinecolor": "#283442",
           "zerolinewidth": 2
          },
          "yaxis": {
           "automargin": true,
           "gridcolor": "#283442",
           "linecolor": "#506784",
           "ticks": "",
           "title": {
            "standoff": 15
           },
           "zerolinecolor": "#283442",
           "zerolinewidth": 2
          }
         }
        },
        "width": 600
       }
      }
     },
     "metadata": {},
     "output_type": "display_data"
    }
   ],
   "source": [
    "def visualize_3Dsolution(model, X, y, mesh_size=0.02):\n",
    "    learnt_weights = model.learnt_weights\n",
    "    x1_min, x1_max = X[:, 0].min(), X[:, 0].max()\n",
    "    x2_min, x2_max = X[:, 1].min(), X[:, 1].max()\n",
    "    x1range = np.arange(x1_min, x1_max, mesh_size)\n",
    "    x2range = np.arange(x2_min, x2_max, mesh_size)\n",
    "    x1x1, x2x2 = np.meshgrid(x1range, x2range)\n",
    "    Y_predicted = np.matmul(np.c_[np.ones((x1x1.ravel().shape[0], 1)), x1x1.ravel(), x2x2.ravel()],\n",
    "                            learnt_weights\n",
    "                            )\n",
    "    fig = px.scatter_3d(x=X[:,0], y=X[:,1], z=y)\n",
    "    fig.update_traces(marker=dict(size=3))\n",
    "    fig.add_traces(go.Surface(x=x1range, y=x2range, z=Y_predicted.reshape(x1x1.shape),\n",
    "                              colorscale='speed', name='Predicted Surface', showscale=False, showlegend=False\n",
    "                              ))\n",
    "    fig.update_layout(showlegend=True, template='plotly_dark',\n",
    "                      width=600, height=600,\n",
    "                      scene_camera = dict(\n",
    "                          eye=dict(x=2, y=0.8, z=0.5)\n",
    "                          ))\n",
    "    return fig\n",
    "\n",
    "fig = visualize_3Dsolution(LinReg, X_stacked, y_stacked)\n",
    "fig.show()"
   ]
  }
 ],
 "metadata": {
  "kernelspec": {
   "display_name": "updated-python",
   "language": "python",
   "name": "python3"
  },
  "language_info": {
   "codemirror_mode": {
    "name": "ipython",
    "version": 3
   },
   "file_extension": ".py",
   "mimetype": "text/x-python",
   "name": "python",
   "nbconvert_exporter": "python",
   "pygments_lexer": "ipython3",
   "version": "3.11.4"
  },
  "orig_nbformat": 4
 },
 "nbformat": 4,
 "nbformat_minor": 2
}
